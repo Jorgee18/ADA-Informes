{
  "nbformat": 4,
  "nbformat_minor": 0,
  "metadata": {
    "colab": {
      "provenance": [],
      "collapsed_sections": [],
      "authorship_tag": "ABX9TyMFT59Wr0jCaXjvjeH+ZL2A",
      "include_colab_link": true
    },
    "kernelspec": {
      "name": "python3",
      "display_name": "Python 3"
    },
    "language_info": {
      "name": "python"
    }
  },
  "cells": [
    {
      "cell_type": "markdown",
      "metadata": {
        "id": "view-in-github",
        "colab_type": "text"
      },
      "source": [
        "<a href=\"https://colab.research.google.com/github/Jorgee18/ADA-Informes/blob/main/KnapsackProblem.ipynb\" target=\"_parent\"><img src=\"https://colab.research.google.com/assets/colab-badge.svg\" alt=\"Open In Colab\"/></a>"
      ]
    },
    {
      "cell_type": "markdown",
      "source": [
        "# **1. Problema de optimizacion**\n",
        "**Entrada**: Un valor W que representa la cantidad maxima de la mochila, dos arreglos, uno de valores de largo n $val = [a_1,a_2,...,a_n]$ y otro arreglo con el peso de n objetos $w = [w_1,w_2,...,w_n]$.\n",
        "\n",
        "**Salida**: Un conjunto de objetos que maximizan el valor total.\n",
        "\n",
        "KnapsackProblem/El problema de la mochila es un problema de optimizacion combinatoria esto quiere decir que busca la mejor solucion dentro de una cantidad de soluciones por medio de un problema donde debemos llenar una mochila incapaz de soportar mas del el peso declarado/permitido donde cada objeto tiene un valor y peso especifico.Dichos objetos deben optimizar el valor total sin que este exceda antes el peso permitido.\n",
        "\n",
        "Este problema de optimizacion sera resuelto mediante programacion dinamica (bottom-up) y el algoritmo greddy/voraz.\n",
        "\n"
      ],
      "metadata": {
        "id": "1HhTonxTX3Lr"
      }
    },
    {
      "cell_type": "markdown",
      "source": [
        "![image.png](data:image/png;base64,iVBORw0KGgoAAAANSUhEUgAAANwAAADBCAYAAACkEt7EAAAgAElEQVR4nOydd3wUZf7HP1O212ySTU9ICCGEEooinYANEBCkCAiIDeudep7153l6HrbzbGcvSO/SQXpH6Z2QkArpm93N9j47vz8mGzYhbdMA3ffrNa9kZ56Z59n9znfmqd8PAUAPYDWCtCeDAPT0+5wL4NQNKkuQG8cUAPj6RpfiT0Dd33jzDSlFkBvNUrqRg9TQoUNHxcXF9QBAlZWVZe/du3cjAHcHFe5PS9euXbumpaWNkcvlYp1OZzh27NgajUZT0Y5ZCgFIAWirP4cCsAOwteKagupr6qr/D6/ebwRgrv4/FoATQGUr8rnluO4N9/jjjz/y008/nSksLGRMJhNrMpnYkpISdsGCBZeefPLJ529EIW9xmvWGu++++3p89NFH648cOWLx/e4Gg4Hdvn277q233lowaNAgdTuVbwKAQgA8ACSALAAzW3G9LgB+ALC++nMGgHUA3gRXvfYxE8BdrcjnVmMpUOdmeOONN/5VWFjo9Bm8qqqKNRqNrO9zWVmZ5+233w5WQwOjSYebNWvW8H379hX4fnO9Xs9WVVXV/O4mk4ldtWrVqSFDhiS1Q/kmAFhU/fdeAD+Dc4Y0APMAfAegH4BxAMYDSAfg/+CNAfBgPdf1d7hvAYwC59A+fA53L4DHASSAuyk/APBN67/WTUdth5s7d+7D+fn5Nc5WUFDA8ng89sknn6xl+IqKCuaZZ5556caV+5ajUYeLj48PWb9+/SXf76tSqdioqCg2Li6ODQ0NZadPn85WVlayJpOJ/fLLL3cBINq4fBMAzAbwPwCfA5gMzhn4ACYBeAHcGwsAfgKwBlw11IcEQOd6rutzuGhwTvcoav8WMwEsqL4+ALwHoBMACsCO1nyhm5Sl/k8bol+/fn8NCwvj+3asXLkSo0aNwrp16+ByuWoSikQicvjw4U8BEHVgYf+wTJgw4Y2RI0em+u9bt24dLl68iMzMTJw5cwbr13P37uTJk0dOmTLl0XYohhdce8sCwFO97yUAVgBrwTmVD49fGlSnyWvk2qUA9gGYD86h/GHAVWVR/dddXRYP/oDUOFzfvn1H3Hnnnen+B5csWYLnn38effr0wZYtW2qdmJGRkTxq1KipHVTOPzSpqalDGjomEokgk8lA01z/llgsJnr37t1e7Z53wLWzfFwFMBrAc+Ac4zkAmwB8BuBtv3QpAN7w+6wC8CWAXgBeAzAGXNV0Ebi2nD/LAeRX5zsf3Bv2P23ybW5Canop4+Li0tVqNeX7fPbsWTgcDvTv3x/Tp0/H4sWLMXHixJoTRSIREhISkju4vH9ECJlMFlt350svvQSpVIqrV6+iS5cuGD9+fM0xhUIR38ZlWN/I543geiuZOmmO+P1/GVx10IcenHP68xu4N6F/L/eSOmmkAP4OIAKt67S5aSEbOrB48WJMnz4dADBmzBicPHkSpaWlHVawPxEEQVzfJHv22Wfxzjvv4MMPP0RhYSE2b75hQ3dmXO9sLcGApoeUWHAdKN0AvNoGed501DhcaWnp+crKSgYAnE4nVq9eje+//x6pqano3bs3XC4Xli5dWnOi3W7HlStXcm9Amf9oeA0GQ0ndnUlJSUhLS0NGRgZmz56NRYsW1RwzGo3FHVrCjsMKrkd0AVo3BnjTUuNwx48f37N79+6zALBlyxakpaUhJycHWVlZyMrKwoYNG2o53N69e/O2bdu26gaU+Q9Hdnb2oYaOud1uHD58GBEREQAAu93Onjp1aleHFS5Im+JfpfQeOXLka71e71qyZAkmT55cK2H//v3h9Xpx6NAh2O129uDBg9+Bm40QpJXs3Lnz/Z07d+b47xs/fjxSU1ORkpICm82Gt9/m+ihWrVq1/5dffvnphhQ0SJtQa4zozTfffO/KlSsu/3G3OmNw3jfffPP7G1XYW5QmB75nzpyZcfDgwSsN/e4mk4ldu3btmXYa+A7SMSylANwHoKbP/8CBA7stFkuFzWZLjImJCRcIBAQA2Gw2bN26NXf58uXvf/zxx280dMUg9VLrNwYwA8Ay/wTnzp0rrKys3KvVauMUCkVcaGgoDwBYlsXJkydNq1evXrV06dI5hw4dKurAcgdpWyYR4J6+z9RzkM7IyBgbGxubTtM0CgsLs/ft27cO3GTTIIFR9zfeDGBsQ4l79uzZs1u3bvfKZDKFTqfTnT9//pe8vLygo936XD+XMki7EFyeEwSoM7UrSJAg7UzQ4YIEqeYL4IGNwG+LgC/+Agxojzw6wuFIAL3Bza8LcutCAuiDP7AdY4G/XgV+twA5A4FPFgFL7qk9abvVNLbiuzWEdorhTVGHUBPio3kJw/qJo7MKnMbsfE9xud559GKuez6A8+2Ud5C2Q5UQTU2MVNEPRIbTSSPukETnF3lM53Lsxdoq7/ELOc6fAJy90YVsI2ivDOm8WTjavS9S7EZoVHl46M1EJH4YAwNYAAzAegib0Uzlnsr0rHjpu8C/e1s5HMnj4fZuScKH1SF0nx4p/Jipd8tj+qeLSeraO1QOIK64wj1w7U7Tw3uOWEuKyty5xVrnIo0O2/EHncpzi0EA6NMzmfdImIq6vUcXccz0UfLoeuwYW6LxDFi/yzhz++/W0tIKJrek3LWsXM9sxi1mx4wMCB+7GzN7JOGhlDjIxUK8UnNwGAAvMQheArU2hkRMCPX4hULnvT9vDywYVGPDAk2hSoimJkao+BNj1GTSvcNkMRNHyuVqVfN92OFksee41bVqq6Ekv4gp0hicu7ILPIvBLff/IxHQsEAHo4gJpSaoo+ipnSLpxFGDFdHjR0gVkWHNt6PTxWLvcatrzQ5DSVYBU1xlcO/NzHctBLfspr0Qo5XO/Z+/4OWJI/BE53h0qXWABcD4OxmJ45mAlwGkAhKLdzB47B4ezhV4jkye5x4YQJZLA3E4AkCfHl0Ec8JCyNt7JItiZ4y+7unXKrIKnFj2q7HixHl7SamGuZSb51ls9Xh249ZfjHizOVzvnsm8xyLDeX27xgtiJ42WxQzpI6Foqm0Wkl8udGHlNoPm0Cl7qdbAXMwqdKyw2bANbWnHEHwPCQgUYy44FwmIvz2I9B5dsD8uAvRdA6vbaV7UONjVMgJLt7N47n4KMiGBme95QJMEzhd4cSrXi8qlUjAu1v3lNmv6v1fiUjOzbf6wgEiAAzwah2LU1KTXHg/v+9+XI2IH9mk7ZwOA1EQB/jo9NOK+odJEqZgYQou8i6USYmvb5XBL0QVctCtU/w2t/j8WgKKlFxXysIdH4ze1ijfp+dmht/33tcj4jNukbeZsAJDSiY9npoWqH7hL3kkmIobwCOJnqYg62GYZAEA0bPgbHkIqdoBbRxcQt/XB7AG9oXA6CcnSjSTgJgE3Vb2ROJUJLPzVi8w8AnBTyCxkoZIQKKpk0a8zhTARjQgZn3dPN1lAs66a7S63pwlNS/8TtYUikPncu2Vn7pief/mB54vyl24yWEwWb6DftxbFFW58+KNWd9fcwrxhc/Ivf7PSkJnRX3L+/NqkTSnxAn0LLul/gzb3WGPn+Iiu85kPzjHC60nbWl4AN6unC7jV074Jyw5wizRbRJ8eIsvKT+I2i0Xkhb/OKz/df1pu9sS/XM1buLHKbDC3btlbqcaDj+dr9fc8cTV/6Oz8y58v1WYOSBddOPVL501JcZShVRevj0kQYR1GojeOQlCnWtgIL81Barc4PMyngc6dWESGs1i3w9/hKLgcJPQmoGccDbgp9IinICBJ3NGFxsJnJTUO2j2S/8AzGYJmL8RufkWdR7BT7lZq7rxNVqUKodwXLtulX6+sCv/Xd5WaD+ZXhsaqBdQ9gyWKqaMUoTHqpi+be9WFRRsNmgOnrPYKrccpFZGVj01SaWaOk2ukItLf8oF2y3YB8Ao4J5jQzGONnQNwQW1mg1sc+SmAo9X7HwUXaWo3gLZcMtMb3CpqAMgB8ASurcLWAogHV8UPuCpFMPBOHCmtHN5HZFCFUO6LeVbJ96uN4R9+r638aL4+LCacR945SKyYMVoRGhfJa/J6+cUuLN5kqNx/3Gqr0HlcAiGpeXyirHLWuJgKmYRsngeH4mGEYi4EAbTJitEbJIBUkNiPNDyI3cjES7jadBTxu/vhqcgwhLo9AEEAsdEsfr3AwusmQVZXKTcc9mDjmyLYy0TQGWnMu0sKgiXA9gZYI4kyO4uIGA9UQojH9xY/8fU+Z7MWzAbcSxk98vKc9K7C4qMrEn/9+h8iC4CCKpOHXry5KmLBuqrwH37Rh4UpacHAXmLB7PuVkd2TBTXnXsh1sPPXGTTHz9rdOpPHFhvBL3t5dljFfRlSXwBS6KsYHkStWmFc9wZtzrHGzgGAqQBM4ILpXPHb3x3XnO9eAHEAdoILN1AErur3dMDfAOhRXaaG0IELQ1DegmsDqG3Hz1+TWAEUmq1eavEmXcTCdcawheuq1OoQmn97T5Fw5jhFRHpXUU2d81K+Ez+vN1QcPWtza6s8tsgIfvkLs8Iqxo6QVraohSFBN6zBoFrB4ANBDmAr4vAWvsZKDEUOXgDXIquXUCXS+DzuieX7UmmJLM5cItE3iQTjIvHBvaGAm4BY5EZomMuvh5JzSJeNRMllIbwMgSiCejijU9U/9xXC0VRRA3a4CxuSl6Q/kDcdAJ56p7TPxJHyonuHSrV/nRFe8tcZ4SUA8OthU+g3y/TqKS+ZquRiWhYeQvJ0VYzXYmNMfbqJir95K6KkR4rIAgBmq5fKmFN454YvY/dPfL54WEGRW1Wwo8uaQMvVzhwHF+RGDOAMuBtdhmsRhGdW7/8MnLP9HziH+7WF+VnReEQ0EVrZQ+dvR+CaLZ+ZFl76zLTwUgDYecSm+nKxJmLayxa9XELIQpWUwGACY7S4TendhCWfvRFR3KcrZ0d/9FUMTxVCdWyEbgLAuwhDfzyOl9EL2ZgALqzDdfAoUHy62uGqvS420ou9v3uRQEtg0dGI6+IESYBzMjfl52zcxqcIxMUz1Z/piBkDlFP2FRoWN1XMgB1OJSM9AOBmQHy/xnjH0XOOmHuHSjcDgN7I8D6aX9nlgxcjM0cPlusAXMovdotGPlo47tTKpI31GcFsZegj5+yJr39Wqdt71J6aksBv8VO7HckFMAdcT+P74GI1jgawDVz1rq1DvR0G14b7BdzMjn/hWgSsD8DFhDS18NoArtkRqN+WAHD3ALH+7gGd9AAuFZW5hUMfLhx/dFmnjRFhPJf/tcxWLzXu2asZN8VDcyxEWIJ0lOF5mPBOfUkENMDnXXM2AJCKgCo7g+yrDAb18QJeEvDUGX/zkvAyRHW1s/b+vmrRRKBphwu4BpBwb85Dbg9Lf7VM24llQZZWuhUAd3fNfqN44FfLDf0v5blq2l1JsTy7UkZbfM7GMCBGPlY4cvRTRRm+NE4X+G6GJQGwvVKFZYGWqQ51Q7QB3Ly4pxs41tA5/gwHF0LuTgC/V+8bDM4xgLYP9aYB12EiwLUIWEngnK03OEdvFT47frNSn+B2ewl/W/rQGxnea5+WpwFAXBTPoZTRlogwnquuDf0emj32HrWn8nlk63rRWooJwBgU4TCeaMjZfPB5AI8G+NXOx+cBKUlerPvNCpORqNNryW2Mk8RP/9Nh/Xoz4KFq9Woq+LxuzSliwG+4bd/Hr1+x1ZiwcY8lKVRJmvk8ouZJmZXvCrfYWHG/qfnTbCdTGwwD0D1ZoPv1gCUZAERCgnn5kdD9U0dJi9xulvz8tYgzgZapDvWFaDuCa2Hd6h5r6Bx/9ldvUwH44ricAfdma69Qbw3dMGeqt1bhs+Pqbabkpx9UXalrS98DdP9xe9LD41VXunXmW/3P97ch0MqHphN8rIAd5xtud10HAxKTIIK4+vMleDEDl3AJE+FstP0LhoUMuPaWIwjOf3r38OLAJhYbtrswa4zErwpJAl4CrIeAyw5oi9yAi6zZDy8Bm9XdrMBOzXY4j5PgAcDg3mLD4N5iAwAs3mSI0WhdQgAwWzx0Ygxfn1fkiejaid+g0ovT7SV2HbElDuwtKgKAEDnt+egl9UUAWPBv8Qn/tA4XSJPFq2xuGTsA/2rSzw2k8YV6c+ImDPXGeL3X2REAPn01Yo/Plj4aeoDWtWFTD02nC6TRzIQ0WKgKfIH3ENh4awjewHCMQDyANbDiHziMLEwCFzm6Uc69gVS9FBB2BiSDgfh+AI8HRChYDOzmwW/bnejdQ4ieEYJabTfaS+DZp2K4fZ5rnShWB8sWapnPmlPsZjtcXrHrVO8HclI7xwtFs8eHmMaNlFbOGqesCe8mFtFMXDRtIgh4+XyiwQaz0+UlRw+U5L3/t8iL9R0v1bgFP6ypUm89bOXp9ExFpdH9RXPL2AE05wnsC/V2U1JQzhzv+UBOeud4oejh8SGm8cOlWooC629LoPEHaF0b1vfQLNO6+T+tMal/PWgRlund5RYL82EjxSpEoNP5ojEWXozAy9BgLRYgH6+hmcMkin4wEJchs+4FxGuBUzJA8hiQNhnoGuOFgHFhV6kRp4tESFEK0SVEgFABVavNBi8BmxM4UmpBFlllena1dUvTOQfgcBU6z+sVOuDsZYvq4FH7RLmcvDsmmlLeN1TufHyiskIVQrk/fjHyXHa+K+zwksTtDV0nRE57PnktstZKgRMXbfJvVlWFnstyezRaV2GlnnnP7sYxNO8GDxIAGq3nbY0WuHDZojp02j7+VSl5T2QopRqdIXc+NlFZoa5uazf2AK3PhgBwNssh+2qFPuzkRRdTaXQVakuZD+1cVb7t7WiDFBNQCT2eRFGDwzn1kvwgylMSEOdhgMt7AeExgC/lqpgUA4SSLEZMc6K41IW8q2acKCdhM5OgCRIClgLrJeAsZcA76kLMmx7IXRCHhUGm1db0WjdIS1YL6CvNzE+VZuanvBI3feq8Z9jXK3STw0L4CX278cnPX4/4vakLMAyIDXstYQvX6uX5xU5bldl7sqTSuwxAQQvKE6Rl6HU6ZoFOxyzIueKmjmc6hvywQjc1RMGP75NK049PDtM19QD1Ati81xL+81q9IrfYadVWec+Ua73voHFhj7ZBg4MowSdwITPQUxkv1/KjKSDtLgB3AW4TQFEA4QBYiutMiY1mEaFm4PYwcHsAlxtwe7it+BiQtAu4oAfCY8Hr2xkpO7Q42VTerV2e47E4PHsspdhzpdSOkxftnbfuN09TKsg+8VEC2UP3KS2T75FrAKDK5KEXbKiKWL/HIizTMHq9xbtVp2PWo4GxkiAdCuNwYH9BKbO/oNSOU5fQ6dcD1mnKEPK2+ChB7oINVZHTR4doAG4I4OcNusj1O2yiEo27qsrk3VZpYNYBqOrQEluxsKWn8mg02J5krQAl4t52qO5Q8R8g93WyUNX7BQaAnwh0TUD0jqPt73B1ySup9M4rqfTiYq5Hevi0Y+w/v9aMqapi6D6T8wmthvja6vHswa0/+/+PTmGpzvtBqc6LzFyP5Nhpx5h/f60bp7MwVPqkXFpXyXxncmI3AFeTV7rJeGIcusdFXDcntgbWA9BibsgA8HO26n98n2sGXbVc2hA5mqVO214rvgHAYrIwK0wWZgUA6Jus3Qa5SbHqLcxqvYVZDQAG440uTusYOwJ3CfjX72erW5me6qnyJFl72ACo7Xxk9aOGNHLpQhQ1AxSN0p4OFyTITUd0OBrU4gMAZz64KV3gHI3vN3+7ZmYKAfCqu5FoFZeG9TZvkn0waleQPxVyCfrU3ec2Azw5UFEKiC5fP7bgm4lSMzOFBojqGhuZxH1mvKhsTv7BN1yQPxMSiQBx1+31AgQJVGYCIgZw19Maq2nTVVcx3eeAynAg8Q7AYIEtJ79mml+jBN9wQf5MOBn2+iU0bPUrzZnF/ZUOqv9kXvW8y9IzgCobIMcCXha2I+fxzPebkNWcAgQdLsifCc/u3/FUaeW1WS0eC0BLAbMRcP4KmGKB5NENX4CmgKtrgfLOcDO3Y9eGPRj33EfNH6IIVimD/Kl4dB6Wf/AcLozsj3nJMRipEEFC0sD5HwFRJSD4NyASAWWV0BZpsEVThVNVRlS5XDCU6WC9qoH5WDGMZ/ORg2cCX3EPBMU8OoKgmMdNyD8eRfqxJdi//W+wnqDBbrgP1jMrsGfdf/DcfUMaHhxvBUH1nA4i6HA3MXcA8kHcOsO2C11WP0uDVcogf3qOcktXW73GsDkEO02CBOlAgg4XJEgHEnS4IEE6kKDDBQnSgQQdLkiQDqQjHC5SKKMeB40RCA6038pEVNvxTnCaCkFaQHs4AAWgv6Iz9ahAQA1SpfGV3SbK1aYrbtuljWa9s4q9Yi93LrcZsRZo3gzrIDcECkD/kCRqFi2khoSl8UNTxsnU5nKPPWeDRWfReoudBudymwZr0YqQ6382WiPI6I9arMBEUZhguiiMiE8eIw3pNlGhVPcUXJfQZfYiZ7vZc36ZsUKb5TIwdu9OQ6FnCYBTaIE4xS3CzaYP1xDhQiU1VhxGzhSrqMTEeyTKtAcUIZF9hNcldFm8yN1p9pxfZtToLrr0bgez31DALARwEsHgTw0RkCCjP9c9/bo/qFAn3y2jBYoAaqksUHrSjotrjLq87Rajw4YseymzyGVhtqAZ8QVvIW5WhyMB9FN25s2m+MSI0C58Zc/pCnWX0TJeoHYsP+PAhTUGfd4Oi8FlQI69jFlotzJbAdxSa8QfVCg6j5dIRit4vCQRy4axBGG2MozmqNN57L3Kyh1Aq4RmAnK4cKGSGitRkw+JlFRSzdOvt7DNJsRYNR5kbTQ7M1caK4xFLq3T6N1gKfcuR+NKMrcCN5PDqYRKarwknJjJk5NJXUYp5GmTZKFtaUdbJYPsLSbHxeXGSsMVVyVjIbcaSlxLgeYtYbkRvBcePjRDLH4lVSC4O4Smr6uaeQFctNvzMz2er74tKvp6H5pWyqmHRh2OBNCPpyDmyaN4MaEpfEXPaQp1lzEBPv1aiNfDovCAlc1cadLk7ba6LCVuu8eBvwDY0e6Ztz030uFIAP34IcS7MjUvOrQbP6THFEVE8igpT6Si2j1zr4fF1d9s7Pnl5srCPRa78arLyzjwNIAGY5c2kzRwGnqtDUhFbIiLm3enRPKShCSb1Rl0weE4sd7hmPmP0tLsAPNqdC6ljCCxmySJKgBevpighGEUTYvae34nh13PQH/ZbddkOd0UARctJliPk90IFtc3KII0hoygsINgCTPLwkvzCUoUQlJ8SceMCDmNXuiyXHZtps1NeFkPT0wzjMOzFVyzpMVEAa8TwG2lwFBwIpUtgTjYqdOCIWLxbN+OKy6XJtft3lTk8ZzQer0VfJaVd6KoznE83l3pYvFAEkAPofC2MJrew4+Kuv/VsrITjVz/OhrtpYwZzD9/1/tRhWd/rorI22VTFey3V/HFhEjVmcfvPSckrMt9Mr5A3naGMxW7cX6F0Zy5ymS2aRmXy8Law7ry9INeDdP2nCEv++GOgt6VF265yGwtpQuAq+A0CpLASWAVgdP4NiOAtlFUf8G5MZ9EF52cr4/I22kNvXrAXsWTkiJVIi3oOVsZ2nWsTCBUtt3bzlzqwYVVRsvFFUaTVcO43DbWoUzi6Qe8rNKmz1SW/nBHgb61dlQBuu+B1L8Bv2UBM4xAQDc+AGyOj397sJ+zbTKZ9qw2GKYvtlg09SR/6yu1+qGJISHvRVFUfCRNRz8olS7KUatH/KjRNKilUZcmhwUSBosNCYM50QdLmZt/aoE++tIqW/i2FytMu97UiORRFC9tikLRfbJCIosJfJRBn+vCuSUGY9Z6s91p8rrdNtaSMFxUPuLd8Mrke6UtfXIpAahxTbbXhwDX9LiNQK3Q1KHVxxprZ0QDKPX7zAcnOWxA2w9xvADgWQDjwCmtqsFFpl4OTp3nH4FcLGaA0BgzINoIAFYNwzvzszH6wkpj+M6XNOa9/6wUSsMpXtqDcnmPyQqpPK5pqeG6VOW7cH6ZwZi9zmyzGb0et421xg0Slme8Fa5JHtNiOzZKLIB9QJdHgA3HgH/nA98099x/hYbePkwkesW/vjZUIhlQ4PWOXGyxrKjvnGc1mqUmlj36kFK5MY7H65bA43WbJhb/60fgyebmG5CHSKN4rmGvRxQOex2FDAMia5054vTPVeGH3teFH/1cL+HLSTpljFTY6yFlSHj364cEfFScc+DsIoM+b4fV7TIzDOOFIW2itKTvk6Gl6m61ZZFaQCyAT8CplvIBzPM7NhDA8+C6rvcA+K16fz8AL+OaEOJTda55IzW+N1VvUgA/APgfWqHxDQASNeUe/KrqyuBXVVcYBkT2BkP4mYUm9aEP9eoTX1aJeTKSlzJaIuwxTRkSkd5wDV5zwYnzS6uqLm+1ulxWhmFcMKZNkJb0nassVfe4Xhm1IUKAfycDj0UGoOqqA+RicMqUy4Ho/wLzvgcGXeZs0qT66ki5/FUZRQkBYJPRuDldJOodz+fHzpBKv/NGRbleLCtbW995r1dW5goZ5rE5YWG7lTQtuo3Pn/WqWv31hxrN2eaUu8UD3xQFtvtkWXn3ybJyANCcs0tP/WSIOrfYGH1+ucnCE5H8uEFCstdsZVj8IDFRdsqB0/OrtFcP2uG2ety0iKrs/VhIUd9HFaUiVZvK004GJ654AMC6eo5XgKt+HPHbF1WdfjGAH+s550ZrfBMAPgLwcfXnVmt8+6AosGkPKDVpDyg1AKC5YJeemW+MPL/cFH1umdnCF4Mfe4eI7DVHGZYwREJUnHXi9M9VusJ9NtZtYd2kENq+j4Rc7ftE03a06xlefWlkAP0TENlSiW8AeAkIGQA8OBdIyQTuRyO/zRiJJDKZz78HAMpdLuNih+Opcy5X4ky5fFWCQBA1Uyqd7w0Lc72k1da7UPhFvf73XlLpkpFS6RMKmhYN4PEmA2gfh7NVeegFw66M7jpWknfn+5E1QgrqXiLLqM9FOaM+R46tykNfWGqIPvOjOSpne7GTYInd2wcAACAASURBVBFCUIRRFkuXDP+nqjh1krKcohp+OjdkmGYSjoard5cBrADXJvoS13oOT4NzjEEADtVz3o3W+P4YnPywL3Z9qzW+G7RjD5Hlnk9Eufd8EpnrMnupM4sN0Wd+Mkavn1lmB8GGkiRpksSQpUP/T3U1bbKynOLVb0eX2UstG3c1Y+qG2P1iBe1ZOLJwZFWBW/VCQftJEQ8GeLuB/hOB3y4DT+sb6Am9TyYbFUFRMgDI9ni2r9bpSlYDJSTLTn9YqVwZzedHzAgNXcB4vTNf0evrVZvd7XD8kiGVPkECiOHzhzW3jAH3eIgVtKf7g7LsEz8Y+/n22fUMb8drnDQtAIhDaE//58Kuzj2TePSlopSNADwvXumy/vHDice7T1WW1XU2l9lLLcgovNNm9NALRxaO/K5f/v2BlsuPUqDB2PGlAPaBkwXu5Lf/EQDvgnOcu+o5z6fxvQ+cxjdwTeMbaB+Nb9/vOxfASAATwVWHgTbQ+K7PjkBtW/JlJNP/GVXR3JOJR18sTt7sZVj381c6r3v8t8SjPacryxpyNgBwmBm6+Ig98dC72lRblYcu3GtPpfjtL0VMgpMAYBt5mUTzeDWxKUs9ntO+/9/QavcvMZsfKnW7dZEUFTozLGzxh5GRI+q7xnsazc5sl0sPAEKuit/s8gUGCfScGXIVbPUwqRdYO7t44MmvDP01l1z1hnsmaeK60XmX2Ut91S1v4qdxl6dVXnJJi4/YE3e/XtmjDQyzCtzb6r/gqnfANY3vMeDadItQu7q5E1xHxHuoXxjwRmp8fw+gDzhJ5M/RRhrf19kRaNKWBFn/LAt/W+qL3DWNPsYJvtvBUjwB6QXARvRqtX57oxwF3COAk78Dg6uABgUShQTh6ziDxe3W+R97taJi92KDYVY5w+iiaDpshly+7N/h4fW9wbwOhtEDgIiiVLj2wG2UFrfhWL9nmzbLFe6ysOIf+uVP+z9bw9reALD79cq0K4ctMTO3JOyJTOeXZa6z9LRrPTzGCT7cnEZ0Kw1TCWAauGqXr8rnr/H9G7gqm3+V9Wg95/jzh9P49sHWeUc115Y+Oz56IHEnANTYssLNRxzPQYsIZuDLoftvnxuS73GwVPrD8uP3fF6/frsZIB8DygPpNKkCZBuAcFX1568AwxfA9stc51ajYw4My9bYWELT0rrHX6us/JUiyUfmyOWLYnm8yFkKxXLS633gDZ3uqH86kiBEAGBlmLr3U4O0yOFEcpKJ7CEqBQCb2UMrE/l6Q54nIrRrw9rePnK2mxONV90qxs2SubtsXaRqyhw9UGgY+HLo/u5TpUWMmyUbMkwAeFC/4wAN69E1do6PW17j2x9/OwKB2dJnR48TJAjAZ8uY28QmgGtW3PORukZWesKCmAbHyaqAV44DrwRS9u7AZxbgeRmAJ4CyA8B/C7haTZPoWLamQ0VN013qS/NyRcUmmiQfmyGT/RzP50dPVypXWQli0jyt9gQAzJJKe3Th8aIAAH7Xa4pGq5QVp92pmWsNaoapPctOpKLccw7E7wIAgZhmFHG0CQS8dCPa3j5unys/7zR4Jd/1y5+QNlV+fuaehI0+48TcJjZNWBBzQqyga7V9KrOc4h1/K0/W5bpSmvvF2olANL4XoJUdG22F7ryr28U15sjG7AgEZssaO/bOu9/j9hI+WzZ2TmWOU7zj7xWdddmu1NZ9I45yACOB/K3A1OY6GwD8ZrEcsDAMAwCxNH13WgPr+14sK1u7wmR6Qu/xWDoJBPGPKpWr3larewHAeIViopiiSACoZNkj9Z1fH4294YxuCzt8y5OVU7b+VTNcHk3xuk8Kqer9iKJUor7Wg0jxwN77ceQ5fbYr7NHDDWt7+zgwTz+g39PK3wc9H3Y5JJlnbyhd7nZL2LmFhrCrv9vELhub59Z7P/V6sLe5XyxIDUanhR2+9enyqdv+Wp4hiyL53SdLDelzVKXSKF6tqlcgtvS3oziE9oz7OqreWknhHpvq9M96ddFhm8TlYPOtZd4vwI2BtgotEDYRyCsFhiDA4ZHvDIazTygUJ/pJJHekCgTJ78TF/WVKUVG9Dvt8efkqwuPhPRQS8kMSn5/4kEy2ptjlmttPKHwM4NoUpxyOZrepA1ktoKIk1DiB1DtJqKDDk0aKLb0fVlXEDBA2OcXos045014o7FLv6L0Pt81Lnl9mijq/1KTS5TgIr5s4YtV4loNbJ3erczOtFgjhC6n7+CHeyTwpHdkpQ2zu87CqIm5w03b8JPbyg38rTlnZWBqPE+S5ZYao84tMKl2+g/Q6iGNWjWcZuCGNtlzv2BPcrKAWDR99HRU188mQkMUkAL3HY1qu1Y56Tq9vUJ/+q8jIOTPk8q+VNC3KdbmsyXy+BACO2e277ygoqK9nuz4CCgSrZ6zMQpsVC20VblqfbxyctdY8nRQRfcK6Ct29Zkr13aeqymlB8xcfmordglPzjdGZa40hzkq3xWljtzgN+AXcGFaQ9qHK5WCWuMqwBHBTVTnGQTmbzNNAE73DugqZng/J9b2mK8toYfPtaClz80/9pI/OXGsJsWrcdsbObrXrsRrcXND24nxrTn6mrGxpulA4bZBIdJ+KpuVTQkPXScTiZx4pLq53hsmz5eULDAwT9UpY2Hs+ZzMyjOmE1fpWIPm2tJfSAw/2WzTe/QBgumJNKjtqnbTrdc0oUShPnDpRbuj9mLJUFce7bs1QyXGb/OQPhsjCfTaZ2+IptRvIhYz9D7fg9FaBAXDQUu49CACWYmunstPWSfvfLB8lCONJu46TG/o+qiwLSbq+6l96yiE7/WNVVP4uq9Rl8pS7TOQSF2fHVo0PdiDsZrv9ETVJ7k4WCHqqebyIGRS1OjkxcctZu/2X/5lMO7NttlIAvCel0oH3yeWj0yWSWXS1/rDT62W2Wa0vPavR/NZ4NrVpqxAL/kgpETVaKCcn8yVIiBsktGZvsQ6KHSI6WnnOwffa2fMWjXcpuDGs1qyevZW4maqUzUUCPu6VhJAP0lIiPr6/2Hb5V+vA+OHio5ozdgHjYC86dN5lHg8OovVr0m4Y/xcVlfCgULiop0hUa6xN5/EwpR6PTkAQ4s4CgdR/LYXe4zHttlqfn1pSsiDA7NpdzIMEcDvJIz8D0LUd87nZudXFPAgA/UgK/wO38PMPxThAvDE29p2S5OQKNi2NbWhzpqZ6jyQmbv5QpRrQwqzaXczDC+C41+093s75BGlfWAAnvUzNXM4/FJsA26bi4n9OCwv7brRQOCmJIEbIeLwEEghjWdbu9HrLdQxz/KDdvu09nW53a/MLylW1P7f6Gy5I27A0GHk5SJAOJOhwQYJ0IEGHCxKkAwk6XJAgHUjQ4YIE6UCCDhckSAcSdLggQTqQoMMFCdKBBB0uSJAOJOhwQYJ0IEGHCxKkAwk6XJAgHUjQ4YIEqaYfwJvLxUhpt1U07b08J0iQW4ZngQ+TgSeGARo3sGkP8PliTrGozWjvNxwFTvCi/aU2g7QnFIBu+IM/oNXAXWuBqZ8Cfa2AeRrw2zhgQL80xI8fhj5jhyAdnKZEi2mPHzCyb6xidlK4ZHCncGlK3zhVzKkifUlOuSnnSqVjz5kywxK0XLEySMcR3jtK+VB8mHhE53BpysBkVezRfH3pFZ0lK0drO3C2yLAIba+Jd8N4cTb6UxYkzRiPt5+WI44FpCopZANp/C6gATGfALwkKvXw6PXslfOFmD/lLe97gebTFjFNqEilcEhKuHxGslqUlh6n7DKpT1xEjFJ0XcKiKhvWnCwuOVdizM+rsJ49V2ZYaLS52zp82s3IrRDThFTLRAO7qiVzukTKuqXHKJIe6BsbFRtyvR2Lq+xYd6qo/FSxMadAY75wvNT0s83mPoGOtKMIM2DHMXBCKy2F+PZ1TLq9Bx5PjcedYlGdFxBDAN5r2/FMwMsQuCOFgtMJdt5K19/fXeT9JID8lrbU4cJ7RykfigsTZSSHy7qO7xPdaUhymJAmm6//7XAz2JlZbtmVVZmfU2q8nGN0bMwtM63DHzN6183qcOG9o5QPJarFwzqpJSljukcmDeuiFvHp5rc0HG4Ge7M11q3nywquVNkvZVUYf80pt65Ge9sxCT9DiPtQhVkoq1+WqgmItx/HnjfnIoPy/7osAC+BMg2BfSeBpEgCd6RSgJfAzHke0CTw7DgefjnIIDWOLH/kE2dUAHkG5nA8oK9AyPs+XMJPWvDwbcphXdXN97BGMDs8mLc10/j57hyKook1VgfzSCsu15DcMNC45LA/bS0t3BKH82l8uwAkg4sPk4cWaHzXRQL0JoXU9yEiQef5s28LuTMtok3saHV68MGvl0z/3XWZJEh2m83JTmmL69ZLd3yGTXgen6AC2/AtcvF2IKfPew4z77kdiw+eIJ0PT/TyVVIQNU4WRWL3ceDTVQx+eImHCQMpwEui7zMOjOhF4Vi2F4cyGZTOl2PbKcesR7901RV0aYjAggjJZVTCv8b2KD2Uqy19ad1ZVaiUr0yPVIqm9IuN69cplEcEYDa91YU1p4oq92VpdPk6q0MqoMrnz+lnWnOiBGvPlDZ9gfppTG4YaFhy2EdHSws3hk/jOx2cTJYSXJv7E7RA49sfoYxKfOXubvqzRaaKV9efV4btzArpHq0QTb0tLrZ/p1B+IHY02NxYfbJIuzerQlugszplArrih1m3GZf9fpXaeqnZEcgjAcQE9CW0SAIF4H+IwBK8hH+hH3IwFUCD4fP96d4Jk+RSYMQAr2DxWgrT7gV+3sTi05Ve/PB3AnPuprBsJ4vNv7EY1YuCkCbQI55CnIrC4mIP+iVRiJLS6BMr/AvgWopmVqcD7jQZmBxa9czwzha91VVudXvIr/bmhj27+myRlCLUyWo5f2Lf6MiRXSMk9VVLyk0OLDlWWH4kV28uNTgssSECzfN3pmgHdw6reVr/crKsYVHppmlKbhioX3LYR0dLCzeEv8b3WXBRhuMBvA2uw6lVGt8A0DcuxPDKPak6vdVV5nB7yG/254X+dfXZIhFJqFOj5PS4njFRd6eppfXZUWN2YvmxwoqDOTpTucFuC5MIyl8a3VU71M+OK44XqptdmCi8hgfwFNICiFPqAQmfVtVMSNELYzALR3EZE+BAfmOnfvY8HuyTigmMFxATQMYgBuu205hzD4VlO9zYfJjFK9+60CWaRJyKhJCkwLoJ/PiYDBVGL3afZvDBdCngptArmu7/n+mesS8vt21qTrFb3EsZ/eqmOekxiuKjr9/1K4ASt9ebueJEcdh/tmeHzdtySZ0ULhHclRYR2idGqVx3pqT8VJHBpjE6zH3jlCWfTu5VERcquS4qs97qapaoXSM0JjcMNCw57KOjpYUboq7G90RwDwNfW6XNNL797fguUOr2ejPXnCoK/WT75aIPtmdGJqrEguHdIkLu6KRSbThTUnay0GCvMLtMPWMlpR890KsiKVxS642it7p4Kgk/sHj/PDjwJARojch3L5DYj56Yhj04hxdR1uADF+lpmCgUAG4P99QihABfwOLulzzopCYRF0oh+xsxKguFcFgoFF0ACBCgSAICgsXX46TwGgiUWIDIGA+GdRI9CrSzw13456gl6e/umO77zCNJ9r7ukYaLJVXhH0xM33/iikH28Y7siH9uvNjz6eGdjy197I4yMY+qiVdvdripcV8dztjwzMD9CpHAM/LTfSMLtDZVv3hVa0LI+eSGLzVy3Cc7PLme4z5p4WfASQtPwjVp4Xi0vbRwQ9TV+P6letsMTmG11RrfPuqz473dooxniwzqDyam7ztbZJC9vy074v2tl3o+Mjjp2MJHbiuXCXk1byJ/O0789vdhBVqbqmDemHbT8W4UJYCtSMAM/ITt6AVD/aKWcinC+XS1swEgCKBbghefPCrEvX1pVOSLcPUcich4N9SRzLWeyppeSxbwEvC4SJQVCBBO0GPmDvJ0/v43Y15TRWzxwLdKzKt1k3kBzP752MCv9uX3v1RuktyWoDSveOKO3MQwme6poUnl/d7deX/cq5unFemsQgAwO9z0kQJ94rubs1Kr7E56b7Y2lU8SrdWArk9uGGhacthHR0sLN4S/xvd91WX+1q8crdb49tGUHdPjODumRsiq/pqRVN7/vd3j67Pj6+sye7SRDVvHLthxBhdgwBcNJaEJgM+rvUWEszh62Yuc4zLIZF4kpLgg4AFwU9c2T/XmJgE3CZolERvjRWIkyb+/p3B6Q/n502KHS3hjy0Nuj5f+Zl9+gm9flsYcbnEy4n7zdk2rmz49LqRMY3HKKkzOGvE7p8fLd7g9lICmvQDYXnHK1mpA++SG30bt4KtHAHwDYCs4B3kMwA/1nL8fwD8BrATwcfU+f2nhXeDeNP8GV5X8O4DV4HoP2xJ/je8tAD4E19nzPtpK47uatrKjm2FItI0NWwYL4F/Q4RksRDYyAFQ1lJRPVzsazW286r8hSgZHNEaIRfBzNNJvo5CZ6YFWi1qOBzeFBBmvWcM8AVUpGSdDLD9WpE4eLbFv+8uw9StOFiasPn01+emMpCtmu5NODBXr8zTWiK5qWS25WoIksSurvItaKjDflqgyAYBIQDEv3911/9xhSfkOF0PNHhB/fERXddEH27LDAilTPTQlHdyQ5LA/N4O0sH91yP9t1mqNb8bJEL+cLgrv10lpbCs7Tu0bU+RmvOQnU3qf/eVUUejFEmvzO03suIwHcQoyWJt9TiFScRLhiAU34jcTRTiH/0MBFjf5/QEeTXHVSV+90ssDUpK8WLfEg37RXqTF8wCGrDXw7XAAB36ugjCChzlPRNY6xmcoeXOKHZDDGVxY+/XegtyNZ8smx8oFwu6xSs0XU/vmAYBYwGPilGITAXj5PLpWo9nNeIip/eLPv3hXl5qxsRCRwPP6mJTsHw5dCTuQVeYqqnId3HpGs0XrcBwIpEztRCDSwrccBhfWLjlSmr3vsnZKjFzUKTVKpvlsau9W2XHB4SthWos9f+Rn+8zFla5VOoej+Wq1lZiPSswP6Et0x2fw4nnkgcWDyEY2JsOCi02fCBTuQTTPAMR35950BAAvDfTu4cUesRcbfnUi7VGhX9uNczwhQSBlmAIEC8BDAl6ypl2nNbsONifvgDtNrC7Xuexy17nscmD35UrV+tMlk2NCBH3jQyXho9Mii7PKLGG/vTai1sh/iEjg+XpGnzMAkFVuFn97IFeZWWwyXjHZC65UWf7rdNY7SB2kHbG4XBezyl0Xs8ot2H25MmTz+dJJUTJJ37hQQeTo7hElTdkxR2MRf7MvT3Gh2GAqMtkLi/Wuzy0uV2aHfonNcOJ/+B1ZmIAAJgLwf0WE+1vguBLgDQZEPYGwnoA8DhjTz4NfFwI//2bDjN4yCAjSr8OExMiBIdxn97W320Wd3XW0yNasgffWTl7WX62yfX+1yobf86voXee1GZEhvNFj/7c/elCXMP5jgzrrAWBbZrlq2bEifm6lVVumtx0rrLKtAte1HeTmoOqK3vHjFb0DR66A2pupHxYdJhgz5n+Howd0UomeGJ6oA4CdWeUhS45cEeZXWrUlBuvJAp1zJW7UBOYyKPE+1qAYs9G8GkkN/GdRyFSih+QKYDwESLYAFU8AYY8AMjGLe2g32D4mfHrCDiUjhFrEh5SiIKUoiCkKpJeE3cmiosKNUrkNjlCD7cXtzRuiaQ9BRh+dU8JlU6vszgySIL6qMDu3g2vv/Bm5WedSNodOyaGSaVanayQI7zdlZuZXANeNod4ApGjhfM1La3A8tRNuAwCvF8g7BQhJILYPcHoZYFoMpK/ixukMJgLaKsDhIuDxcPtcbsB0hkXyKhbl8wCSBt7+DnHnclHcRNbtqg+Xd7nS/D64nrUgty6FuTrrBwA+uNEFqUOLJ0cT5LU1bSQJdLkNcJu48TjSBrB8rm0HAlAqWEjEgNvDwlXtcG4PcKUMUHqBUg0gTwZSk5DUDIf7Yy8oDBKkLp06QSgVILrBBA6AklQ7HGoPjoPg/hIAhNXzTQVV3JBCQgQimpN/0OGC/Kl4aixGxERcv2qbrW4FMi6A4nFjc0C1g1VvgJ8DVk8X4Gk551QoENqc/IMOF+RPRf8eGNrYcbdf1wePvvZG8y2g8Dmfb34O4QZ4PEBEQ9yc/IMOF+RPRXgIBtXdxzJcxwfjBewXAb7f1Iu6A+Q+xyNd3F9eDPeGo6iaQ40SDJMX5M8EKeKjW92dbgtAS4HCi0CYBmDrhLyiKL9pYNVzL9lSwEUAgh7cfqMJhc0qQNt8jyBBbgkkUknNKrrrsOVyDiFKvf4YRV2b6Mx6AZwEqnoBCV2BwhIcP3GqeUu0gg4X5M+EOb8UWf47WO+1DhHLCW5CiXxE/SeTJPc2y18HKHRAyDQgrxiHNuzF1E0nm7dcKtiGC/Kn4tMFGOicgW8z+uIhgBt/4yuBwrMAfzegHwJk9L+WvlwHu8kCLUXC7vbCzHphvpoDNZMBrdONhT+/j2X7CgObCPB100mCtJK6v3FrFtkGaT3kgrcx+8wSbPceB+s4DHZfOtjDkWA1G8CWbYPuyEL89N6zGJuWBmkb5tuuM02CBLlZ8c55G4sALFr9Af7CnMeDAiOS3GNwvOQStq07jNXLN7VfsOLgG679Cb7hggDA0mCnSZAgHUjQ4YIE6UCCDhckSAcSdLggQTqQoMMFCdKBBB0uSJAOJDgOFyRIHSbJZKndBYIu4TQd5vZ47JkOh+ZHi+UA2iDCdtDhggQB0A8QvxIb+5cuNH1/Z4HgdjlF1fgGC+DvLldxudu9c4fB8OV7RuOplubTng5Hq9WKkSpV6Hi9XrdRozHuQdvH4A/S/lChoaEj1OrQiVpt1ebKysqd+IPZcX5U1L2DRKLPuwqFXes7TgDoyufHduXzH+ktFE4fLpd/+2JR0auZnHZfQLS1w0UmJXV6ODYmemh8bFSX4cMHdErtmsq/lJX1xL4DR/LLSsovF5WW7cvNzV+CP5A+9B+QyK5dO8+OjogeHBWjThky6PZOPXt0F2ZlZz1+YP+Rwqulpdnl5ZpD2dl5C8CFZb8RtEquy8eqmJi590qln8opSgxw8fbOOxyXLR7PcSugowlCJieIxEQ+f2AoTQsUFCW8RyZ7YVF8fNonRuO0ZUZjgyHVGyp0a8LkUaGhoRkJCVEPxUXHdE1NSek8LGNgRKgqpMETNBot9uw/VHY5JzenuLgiMzc3/yebzfZH1/m+2cPkUWFhYUPi46NmREZEdk/tmpQ8MmNoRFhYw2E6tFod9uw7VHY5JzevuKTs/NWr+Uv0evvv6CA7SoHPpEBOOfBVS6+xKCJi3ESlcqWUokQAcM5uv7DVZnvv9YqKlagT6/KJsLCU6WLx3waIxY+KSJIHAEes1rUDr1yZUjdtI7RI4zuqa9fOs/yffum9eggpimr6zDq4XC4cP3nOevi3owWack1WXmHRzrKysuVoXBvgVqQ1ksO+WJ4KcFWYULRScrgadVJS0oyYqNARcTExXYcMHZDQUju63R6cPHXa9vuRk3nFReU5hUXFO0tKSlaiEUGN1pIKfD4EeHgvsDyPU4oNKBjs4xJJxD8iI0/HCwQ1Gt1ZDsflHw2Gif/V6xuMIL04Lm76WLH4OyVFyQBgjdn88pSioo8bSl+HwOZSCgSC0SqVYr9ELHk8rVtS36mTx6f27ZPeIiMBAJ/Px219e0lu69szTh4i707T1GshISGt1RZTAkhpIo0CtfXXCHA3eOdGzqkvtBq/+rzweo61lhdwzdlk4CSS7wMXhPXvrblwtR0PKeTiZ3r07NFn8pT7U1pjRx6PRt8+6eL09J4JIaGKNIoiXpbLpVtbU8amoAD2H4DiS+DhbsBecHZvNhPDwl71OdtZh+Oyxet1pQqFKY8qlatfVqsbvA9mFRUt324yvezxelkA6C8QPD9LKm22cElAbTiRiC/8/JP3fjcYzfSmjb/K9+5/v0gRIlckd04Q3X3n8PiULp2bZTGr1Ybd+w7oTh4/py2tKHPRtLD8/nF3G/7vlRe0b731gWD3gUOBFMufpjS+gWs37/u4ppLTC7V1tN/wS9+Q7jfQftrf/pLDAPAyUKMK02rJYZGIL3z7H6+eommaWb9+q3zfvsNFCoVMmZycKBqZMSw2rVuXZinR2mx27DtwSH/8+FltSWmZk+bxyu4bfafxlb89q3vjzXlhh34/1qzyhAJ3RgBTqQAic5dxDx+MAkQpwNCpwO9ZwINW4FwzTud1pukHAcDCMJ4VJtOTnXi8vrMVig/ThMK0WcA6i9M54RujsV7p4mllZd8dEwon3S4S3R3P58eOUiqnLbZYGtSj86dFnSa39003pKYkW5567u/p99457mRefgHx4cdfl4gEdHhcfAI9MmNAVN8+6WL/J6bBaML2Hfsrz50/b9JUVtpClGGlM6dN0Pbq1b21VSN/mqPx7X/z+qiro+1PQ7rfQPtpf/tLDmcAyAZqRYVqE8nhvr17GrokJ1meeu7v6aPuHnnyypUS4tMvvini8ejwTvGd+MOH9Y/q17e3mKav3SZGowm79hzSnjp9zsjZUVk2bfIEbd++PZsjA1YvImDUe8DcQBWHfVWOJIA4AKTOAbaeAN4uAH5s7Lx31OqxXQWCaAA453Lt/0Cr3QdgH8Wy1AyF4v2eQmHPuSEhaygeb+yXWm1pfdf43WpdfLtIdDcAJND0nUDDApD+tLiXUiaVeEaOGJr94/wlA9asnL8WQAnDMMTO3fvD5i9YEf7TgmXqmOgooSokRHy1qNhu0JtMiYnxpc89/XhZVKT6uiXpBoOJp1TKA9OGvp6mNL7ru3l91NXR9lGf7jfQvtrf/pLDIwGowFWTGXACjW0mOVzXjk9iVgnDMMTufQdDFy/+Rb1gwYqIqOhIQWioSlxUXG7X6bXmxLj40mfmPlwWExNlr3u9ltiRBJgkcMLrLUUMYBUQ8xHw4Y/A4BzgCTQwfNHdYSbH0wAAGR9JREFUr/u/0u32qcriifLy/9AEwZuuUPyrt1jc5xFgvRaYsKIep1uk0WycKJfb4vh8sYQg6h1OqI9WDQuMGXXX1d9+P5Ho+2wxW+nc/ILwb/73USaAzOzsy7J33vtk+I/ffLJDLBYzJSVlIp+z2Ww26u+vv53x0bx/7n/1zX8NKy2pUK1bvaC17bemNL7ru3l9N01dHW0f9el+A+2r/X0YXBvuFwBvVe+bCa79ZkcbSg4D9dvxck6e+ssv3s8EkHk5O08276NPM77530c1doyJibL721AqlXiefeHVkW1kxxbzCqDKAaaUAzpzA21dIUHUtLkqGKbE/9gjZWXvuQlC8LBc/o++YvHtLwKr5U7n/d+bzbVWgJ8EjFUMUxEHJIooKhxc04NBE7TY4SwWK/3Oux8NkUiENfXud97/eOCZ0xeS7ht195XETvHWrl1TzCqV0gQAUx96YqLD4eRv/GXRSgCw2az0+fNZid/88LPu5MlzqXGxUa2qHlWzCpy08Bhcr/HdB/XfvADXHhgErgfwMGozHJyj9sA13W+A0/7+GziHWw6u+uiv/d2sOIUN4C857Pt9l1T/bVPJ4ebYMaVrZ3N4aKgZqG1Hnw3nL1pW8cjsGVltaMcWwQB4EajYD/xgBv7RUDqKZWsehAKWva69Ore09J9CgqAelMne6C8WD2II4pcyYNKmOk5HEVy8L5ZhWDSzPd1ihxOJhExK586VJEXWZHSlsCjcZreL5zz+l2n7d234yT/9sKEDsrdu3dXbf5/b7ea73V4SAJuS0qUttKF9Gt8i1B5aOFK9+ViC2mwBcBDczV234b6/epsKzqF9+Gt/+yMF92SNAOfYLeWdBva3WnLYn9ba0e12891ON8Wv1mlviR3dAO8kAp+20RNczxjANWonA4XZwFNl1zcLalHl9dY4jookY+tLM7uk5E1vdLRwplL50kCRaNjLISHLCYHggY1arRkAxkgkkaEkGQEAdpLUoJnDEgE5nNPpqfjsi29Dhw8dLBk75m7t3158+qzvmMVipaOiovQlpeURcXGxtbShxWIxc8+IjKItW3f28e0TCMXMzOkP7L9r5LAihvGQt/ftc/XNt96PvFxQcDWQMtVDUxrfDdFUFa1uNelGaX+3GqfTU/7j/EWKvIICeuzoe3UttaPPhhPvH5vvcDip+8bcc/yO23tfffOt9yMLC4v0zS2PFVj1IWAmA/C5SmD6CaBHPIDTADMbuHiBG9ssaurcczbbuQflcpAAYvj8YQ2lm1Na+ncQBDVToXhhqFR6lwdYrQOmHAbM48TiMZF8vggArAxzobnlDsjh7Hb7bydPnR97/kJ2r7XrNk8Kj1AlJMYnKu4fd4+pU6cEa3RE2P+3d+bhTVR7H/8mk8xkX9qkK93ZF1FRUBQVkF3ZhLKqoCjicvVV8Xp5X71evXq5KlevgqKCIld2tHJbQBa1KIgIKIJowa5pszRJkybNNslM5v0jFGtJIC1tWJzP8/A8aZiZc57++p0553fO/L5ugUAQpijqjElzl6x034q3X/uk5XfaZG3Dig8+Elms9n2le77Z6vV6SxHHOPgCEe/C6kXv/e33+/cfPVY2puxEZZ+iT7ZPSU1NysvNy1WNv21UU34b4qhUyJl75swqK976me67w8dYm7l+7959B3a4XG3bN+sGDrh/v9xyTvoAKQD6rgbcLwGlJ4BpiNMocrHDsXOmWl3ZTyrN7yuRXP+v1NTbH6+vL4527Byj8XGS48jpGs2DQxWKUX/NylrzZG3tjAFy+bzmY8poOu4loXYNKYPB4NFqQ93RakMdDh48mvT11/umJKckX61P0tXn5nQxvrvslZ2tz5HJZKzd7hS8/sZ76RXV5W5bvaO62lD3GvD7Srg8iSMYDB431NUdN9TV4eDho9rSPfsnp6ToBiSr1NacrNhxdDpd+PebKzKqqqpdRpPFUG+zLQ0Gg3Hf5TsCFiAeAhxlwBvlsYffsQhX0vSH/aTSv5FCoeB2heIlN0Hsf85kilYaj5tpMj3McRw5Q6udN0KpvP2vXbocuEYm6wMAFTR9co3ZvDbehjvaclgkl8tv1ut14zJS9en9+/cld+7aM6Bb17zvjZZ6u83WcMRisWzCH2/j8sW+l7I1hEahuCk5VT82JSUps2/PnpJ9+w8NyMvNPmw0WuzWBstPJpNtPS7cxmWogBfEwOEG4NP2nD9ep1MuUasPdaWo7gDwcyCwd21j48wXHY5YQ1Lhx1lZKyYplXOb15RYjuPWuFzz7jaZ3o9xTmvWAJ1bl7KAIIi5iKSx/8hc6nUpcyUSyTxcZnF8KzX1Onu3bo1c794c17s3V1VQUL0pK+uJkVG2aj2rVo/YnZOznTl1LNe7N7c7O3t5G5vs9MrLFSzLVnRyGzydT3UgEDjr7o1LkQfr679NEolm3yKTrUwVi1NyKSonl6JeHSyRPGsOhX5kBAIrAIlUIOjeiyS7ioVCARCZzH/t863+u8HwWFvb5N/45vlDM91oLFmSmTlyiFj8+gCZ7BYhgAyxWJUhFkd1SjUGg/X7afqVqbW1S9rTHi84nj88TxiNPwIYtiwjY3p/kpyYShDDs0gymTrlY2UNhZjaYPCwkWF2baLptz6y29u9ZswLjocnAveQybQOkV1D1E0k2f1quTzbyTCN+5qaTpZ3UKKPFxwPz5nQXwWDx74KBo919IX5upQ8PAmEFxwPTwLhBcfDk0B4wfHwJBBecDw8CYQXHA9PAuEFx8OTQHjB8fAkEF5wPDwJhBccD08C4QXHw5NAeMHx8CSQRGxeVoOUjkDQX44OLO/Gk3Ca41iBSBwvR3sxYpFWO3qIXH6LkiDyKSCZAbwBhrHWsOyhzRbLpyWA8dyXiU1nCe4KZU73OWKlaogstyAlfdht6V5Dldu6/wsb3WA5SdusHwVdjq3ooHLdPJ1GP2lu11mkXDlUldcrLX342HRvbXVT/d5dNn9DQ3nIbloddDm2AfBc6I6eJ4LlaWlzbpTLn+hFUX1iDPvmjFOpFh+i6dVbvd4XY3kOnLMhdEwRITWp1Y0TJ6XNlOp0BSnXDdNnj5uarCzoecaBoSYXLF/toA1b15s9NZX1Qa+7JFBbtRZAVKeSy4RLpYiQglQnjaH0KbOp5LTuKYOG6ruMnpSs7nGmzQbj88D85Xa6dvsGi6e63Mx6m3Z6DJX/QaQ0/CXDVL1e8SeZ7J3BcvnM1kJjOA4iwZk2FCaGqfnM7Z57r8XyZRuba5chYzOn737KvO5pWbcVpqXdMJIUyRRxX4ALh+H86TBqStbVO344YAu6G48G6io/YAKBPYjU579cuJgF11OWlX+XWKUersgpSM0aXZiWdtNISqxUx38FjoPz+PcwlGyst3+/z840Nv7kqzmxkmGYPWiHD3aimApIF+XlbbnylAsOAPzg9/9YxTAf7/d4vi+jaXOqUKi4VqXq1pckR/ajqAkqgqAAoDEc9mxobJz2gMXSFh+8Ngnut7ufLrVbysBhKbHufu0lYLPA+Hmx17izyELX19UGG22bfRbLZgD15zz54uZiEpyMUKjHytLS7yST9F311w7RZ40p1Gt69e+wBmiHDXW7tnhNO4qsfkutIeB2fUqbDetxnvZaHc3u7Oz3hisUpwu6bnK7dxbW1Y1DjCK2zycnD5qh0SzrSlEDAMDOMKblTU23PmM2xzKPaU1cghsCoXAVwuH8fk//M1gwfT7ZprtfO2EDfhx/83n2xPLFBAjiIFj2MQDfdHrDncPFILgbIRKtAMP06Pfk4lDB7AfEiYhjOEijbNmL7PGlLxAQio4izCxAx8RRgjgrLUfj5ZSUkY8kJW2TCIWnTQx9LMt+5HL9Zb7F8kqs8xao1drHdLqS7hQ1GAD2+nybhlRXF8bZ7BoCEeeYrbGOEGv1C7W9+idxHGd0/fKj17Rjs7ux4peQNDlFIdGnxzqtXYSDNMx7doSOvfqM6cTyfzQ0HP3Oosgp+FXTdwDpt1uruGDghw5tMHG0/h3PBBB3td6OgNLqn9T0uVrPhRmTu+xYk3HHJrfz5LGgJDlFIdWnA1HmKu0lHAqifu8u5tiSRaayt/5htx05YJFl51do+w0g/HZzFRcMnncc1cDbemCUG2iXtfELycnLcimqGwCscDhWSwQCYQZJpvUiyVtyRSJ3sdcbtfT6IZoOKAlibz+Kmi0XCqU6obCHRCgs/dLni8cT445zZinFJNl01QtLf9H0vMrTVHVSVrXuvTTjFyVa444iJ6lSk+oe/ancybPTUgYNJQRE25OerN8H0xdb6ZqiD23e2qow4/F45Hld7T0XLLJnjrmjXigWc1Ul69Nt334db21/DSJ150+e5Zhmg/ozDAVPkYGI11wzJCLWwo1IXNXobgCag9jsIe5CpO9Npz7HDUGSnquee/0XTc+rPN6acumvG1ekmXduSTLtLG4kNSpSVdCHyp1yd1rKoKGEUEye+4KtYAN+mL/cTlcXrbJ7aysZxtfklWTlN3Sd/5Q9Z9w0S4s4doh3RBfAOwu4bxWQdxKYijZkvCer1fndJZJbAMBA0+Y1gcCjFSyrmy0Q/LcPRfWaptW+zHJccIHV+na08/9ht5+8SSJZOVqlelJGEKKrSXICIu5L56RNClHmdfddseiVyisWvQLW6yEMxWtTazZ/oD/05/vcIoVCJs/MJbIm3qnPHDqWEsmVMa8TcjeibkeRz1C8ttFnqePCfn9j0sAbLVc/+K5Fd/UN52NB3F6P72Zi+Xl3lpf32XgMwEOIuLY+CuAwIv0+iYgdVkz/s3Mhz+nqv3Lh4qorFy6uYgM+oeG/a9NrPv5Qd/gv8yNxzMghcibMTk4bNk4qVqhiXifkccO0a4u/+tP/OGlzLReifa6kqwZbrnru7Xr9oCHO9vYvXmYBstuA0bOBb08CEwJAVTzn3SaTjdCKRBQAlDPMZ6WNjY2lQGOIZafM02iKekok3Wdptf8Kc1zwIZttZbRrbPf5ioYqFE9QQqEgVSS6Md4+t3sdjpAr2Lzp95vypt9vAgDbgS+0FRveT/np5T83/vzmcxqJLl2QOXqiKnvUVKUkJR10gxV12zY11W7b7PXZLBzHMfaMMXfUDXjpfbO8S1a7x+KtaK/HdzOx/Lw7y8s7Flfi90/oegCHEPG4CyNiAilAByw+ExJZOK9wnjGvcJ4RAGwHvtZWbHwn5eiSRSk/vfmcVqJPE2SOmKTMGjtVJU3NBO20o3bbJk/d1o0ev9XChVmmIWPkBGO355eb5Dn5sUYMZ0UHzEgCHqba8JQyRAw20Q8QlgL9pgJf/go8YgCiuuC0RNvCE87CMKcrcy1xOH4WkeTkeULhlq4kWTBNo3kzHA7TjzQ0tPYAxBsOxzfzNZqG3hKJTkIQcc+tzik4jg1JKtauLBBJKDZl8HBL6g0jGkJ+D7Fn2s1jej/8zMEu46ZaAEA/aJhTP2iYE8AJn7mWqtq4Mr3qw2UZ5R8u1REiShFmGT8hFlnzZz1YkzvxTjMhV8QcWgSdDjGpTWrPssD5eHwD0f28O9PLOxZ9Afx66vNJAOsRscBeikjypQERw8e4s37xx3GI89TT6YSv3kQZ1q9Mr1q7PKN8zVs6gpQqwiE6ICDE1q4z7q/JnjLHJJYrzzuOMqD/ZmBwe/PdWgA7gZyFwIpiYPWvwFM4y81IQhCns0Vehvndov0/LZbjhF4/5V6VqiifonJn63TLIRKFHqmv39D6OgzgAKCjCEKL36ymz8o591IKCHGgYOa9FRnDxxurN6zoUTI4Y+ZXM4ePGvzWx58btm847QsddDrEP778dG8AkKVn0X0efa565O4T34zafryY8TWxo3ccLxqx7di+glkL6lqLLeRtIkpn3DKcdrtEpbOHDds9YcCEc/UrBs0e37EYBuB6RIaN9+I34/pmmv28SxEZcgK/eXkDHe/lHQtvi76ZTvXnfQC5p76Too27dNoVx9QMuuejz1SP3FX2zajtx4tphx2jd/z8yajPju0tuPuR2pZiaxlDADjPOLYZIYAlQMpiYEH3yOgj5pwmwLKnpy1SgtC0/v+XbLYj7zU2FlbTtEFDEPJpavW7r6WnT251mEDIcSoAoBmmEXGuG8e9eVk/6Gbn9W9/sm9cadX6zBG3l//6wWvdBy/dHPG8Dofx3ZN3XV/50bKB7vJf5L9rQCzmhCQVhPD3TXlrKk//sYc8TSLHkW/zfl7yl772/V/2FIjJeBMkrdmIyNBuCc70+F6AiMf3wwBWA1iJM5MmNyPiNTYcv/l534DffL/XIbIjpqWXd8wU8nmwD8CAU5/HIjIXXY3fhskSnNuxNSrnE0eCJEOx4tgcw7KlL/Sk3U7Recax3UwC5AOAa1SRp1xUnC0SYllica9oxyxuaDi4xumcVhsKGfUikepOhWLlEp3u9FLOPVLpdd0lkjQACITDcW/zavMcjpAr2IK5j1eUXKu/R5qZ29Rz/lMVANBUWaZnvR7Z7gkDpk8+7os60QQid8LPJwwcDwCjd/9yep4VDtIkGwwJAXCaXle0t3Z7ez2+m4nm593ZXt7RsCJiWUwhkvb+BpGnXgiR+d1nsU+Nj86IYzhIk0wgQIhIKozzi2O78AC4E6j7AXjafcqLLRrbGxo+myiX01qRiMolyZHj1GrtVpfrjCTP/zkc34YJYsbdKtWGbIpKn67VrgoJhbOetlp3TNLrJ5GnllJswN54+9iupIlYKmNzp91/wFy6Nb/n/KcqaE+TSJad5/AaKlKV+T3Ouisk5GkSeapPpGl6X306KUFIpWyP+xbuyRxbWBsOh4T9//ff0d4qiHehqL0e3y1pmb28UF7eLV09G1t8PoIOeuuiI+PYHMP8GfdXsv4AkT3l7oMx4njmtQDpJrTdCnccIpNtACgHuGlA2Ulgqgc4frbzNgUCVY/T9NfXiUS35ojFmQ+rVAu3ulyLoh37rM32tYDjZt6r1a7PEItT71ar/+PiuD9fQ1FzAMAfDrOHfL4t8fb5nIILBXy1Bx6adqvuljEN3Qrvs6p69PUIxWJuwPNLTxuxi6UyVpaW5YZAEBaR5LnHshwnEClUdPOPlErL9Hv65eMAMPCKVYcAgA34hIYtH6XV/Hedxl1RRgmD3p8TaP4dz1Doovfybkko4DF8s6BweMbNo525U+dZNX36N3VkHFvGEAAG/vNUHGlaaCj+KM1QtE7jqjhOCcN0Wes4moHXXogju9gSLbDoCDA0G0Ax4F8IfHsCmIg4h9oH/P5Xr5RKh0mEQuEQufyJdzIzf5hvNG6KduwzdnuphCBmz1Cp1meKxfrHtdp3dSKRCAAO+/1Fz9psca3BAfEIzuV8O+RyvtO0pnqgZfvGmUKZsqc6tweRM+UuR/qIyTYhQXBCsZjr//SrRz2VJ3RDN+3bcbbrEVIp2+2uP+3t/eTfz7gL+cx1VNXGlemmL0oUgQZTA+P2bWG9jVsAdPqazuVOyOVaHnK53i1f/841Nds/nkEqFX3UuT2I7PGzGzPGTK4XisUdFseA1UxWbXgvve7zEmXQbnEGPd4StslRhEh2NRrVp/7FTQZwGwcMfQawbwDW/RpZq4x7meQxq3VHH4padatSeY9cKCRnKhSr1BkZua+YTK8fjpIAWVhfv9sZDL7yt7S0xc1iszGMqTQYfLYt/W7v2wJdKI3mDqFcMUKWnKFIHznJk3vH3WZJSnrUneGf3dpj0ujdJ6Kui9mPfKeuXPeO3nlkP8l6XNVBu3U9wzBf4iLeZd4OLoa9lNHIEGuTJ4so5UhSr1dnDZ/QlF041yJLzaCjHbztprypY7+qivoUcBw9pCrfuELvPPgVxXrcBp/TvgE0vRudFMcC4F0NMMkMPGwCzkjZx8McQPI/OTnFV8jltzZ/d9zv//EkTX+y1+M59G04bMhgWdXNanWPvhLJyP4kOVErEkkAwM2y3k+83sK5dXWd9rZALKSQyW4lZdpCsVqdlXzVdXT+jPtsuiuvO516bSm4MMsKzLs+0ddsXJXsqjnJMB73D7TduhbAjzFbuPS5WAXXEgkoarhMqyskVJqs5CuuZfLuuNeWPPDG0/PHloILs6zA/PkWfc2mVUmuqjKW8TYdo62WNQC+T0RnFcCDNLA/BJzXvsxZSUmqB5TK5YPl8hmtU/Z+joM0xvtwxS7XvQ/U13/exuY6RHCt6S/Rp08jSPk1stwcUfb42a5flr0wuOudDx8wbtuk8lktnrDXtZtudGzE7/crXs5cCoJrTT9Jsn6aUKa8Vt4ln8weP8318xt/G9Lj/qf21havV3vNRi9HN31OOxwbAdRd6M6eJ4K39fq5N6lUj/eiqD6xsnNWhvEeoenVRR7Pi8sbGtpTaqFTBNcSPaFMmgguOBcsXmP9nm2IJBv+aFyKgmtJMiHXjAdC8yEQvM56PCW49MsqREP0nE43eqBUOlxDELkUkOwHAmw4bKpkmMOfBgKfbnE4as/j+muAyB8DT+fS+ndcckF6wXOhWcOXyePhSSC84Hh4EggvOB6eBMILjocngfCC4+FJILzgeHgSCC84Hp4EwguOhyeB8ILj4UkgAkTe+/v0QnfkMuc6RAoYNXMEZ6+byXN5Mvb/AQRCKdp6NsJMAAAAAElFTkSuQmCC)"
      ],
      "metadata": {
        "id": "gIYZhdvxVOgy"
      }
    },
    {
      "cell_type": "markdown",
      "source": [
        "# 2. Descripcion del algoritmo\n",
        "\n",
        "Para resolver este problema con programacion dinamica debe de seguir los siguiente pasos:\n",
        "\n",
        "1. Primeramente debemos de crear una matriz $a$ la cual en su interior contendra en su totalidad valores \"0\".\n",
        "\n",
        "2. Despues debemos hacer un recorrido en el primer ciclo de las filas y en el segundo de columnas.\n",
        "\n",
        "3. Finalmente aplicamos la subestructura optima para encontrar un valor. Esto quiere decir que la subestructura nos ayuda a encontrar el valor maximo para cada una de los subproblemas posibles considerando la totalidad de elementos que podrian o no superar la capacidad maxima de la mochila.\n",
        "\n",
        "KnapsackProblem con programacion dinamica, es un metodo que sirve para reducir el tiempo de ejecucion de un algoritmo mediante el uso de subproblemas y subestructuras optimas. Este algoritmo es correcto de usar en este tipo de problema debido a que siempre resuelve los subproblemas pensando en obtener una solucion global/general del problema.\n",
        "\n",
        "Para resolver este problema con estrategia greddy/voraz debe de seguir los siguiente pasos:\n",
        "\n",
        "1. Primeramente debemos de crear una variable $\"a\"$ que almacene un arreglo con los indices de todos los objetos.\n",
        "\n",
        "2. Despues debemos de calcular el valor por kilo de cada item/objeto y guardarlo en un nuevo arreglo, para despues ordenar los indices dependiendo del el valor por kilo de menor a mayor.\n",
        "\n",
        "3. Finalmente recorremos los indices de cada item/objeto y lo agregamos a la mochila.\n",
        "\n",
        "KnapsackProblem con estrategia greddy/voraz es una estrategia de busqueda la cual consiste en elegir la opcion mas optima en cada paso local con la suerte de encontrar una solucion optima global. Esta estrategia resuelve de manera ineficiente el problema antes mencionado, debido a que como nombramos antes se enfoca en el subproblema actual y la mejor solucion para este, no teniendo en cuenta la busqueda para una solucion optima global dando asi una opcion aleatoria de encontrarla, habiendo casos donde directamente no es encontrada. "
      ],
      "metadata": {
        "id": "Sb2POGltYeqq"
      }
    },
    {
      "cell_type": "markdown",
      "source": [
        "# 2.2. Algoritmos para KnapsackProblem\n",
        "\n",
        "A continuacion se mostrara la optimizacion de el problema KnapsackProblem tanto con progrmacion dinamica como con el uso de el algoritmo Greddy/Voraz."
      ],
      "metadata": {
        "id": "UKVp7W4RYN9z"
      }
    },
    {
      "cell_type": "code",
      "source": [
        "import random as rd\n",
        "import matplotlib.pyplot as plt\n",
        "import datetime\n",
        "import math as mt\n",
        "from timeit import repeat\n",
        "from termcolor import colored\n",
        "import numpy as np\n",
        "import matplotlib.pyplot as plt\n",
        "import networkx as nx\n",
        "from networkx.drawing.nx_pydot import graphviz_layout\n"
      ],
      "metadata": {
        "id": "y5J_ZTpUP5lp"
      },
      "execution_count": 21,
      "outputs": []
    },
    {
      "cell_type": "code",
      "source": [
        "#Programacion Dinamica\n",
        "\n",
        "def knapSack(W, wt, val, n):\n",
        "    K = [[0 for x in range(W + 1)] for x in range(n + 1)]\n",
        " \n",
        "    # Build table K[][] in bottom up manner\n",
        "    for i in range(n + 1):\n",
        "        for w in range(W + 1):\n",
        "            if i == 0 or w == 0:\n",
        "                K[i][w] = 0\n",
        "            elif wt[i-1] <= w:\n",
        "                K[i][w] = max(val[i-1] + K[i-1][w-wt[i-1]], K[i-1][w])\n",
        "            else:\n",
        "                K[i][w] = K[i-1][w]\n",
        " \n",
        "    return K[n][W]\n",
        "\n",
        "val = [60, 100, 120]\n",
        "wt = [10, 20, 30]\n",
        "W = 50\n",
        "n = len(val)\n",
        "print(knapSack(W, wt, val, n))\n"
      ],
      "metadata": {
        "id": "CJU5X-NQYco4",
        "colab": {
          "base_uri": "https://localhost:8080/"
        },
        "outputId": "6b4f0260-3a32-42e5-cbc9-2c41d2e9f86a"
      },
      "execution_count": 22,
      "outputs": [
        {
          "output_type": "stream",
          "name": "stdout",
          "text": [
            "220\n"
          ]
        }
      ]
    },
    {
      "cell_type": "code",
      "source": [
        "#Estrategia Greddy/Voraz\n",
        "\n",
        "def knapSackGreddy(W, wt, val, n):\n",
        "  K = [0 for x in range(n)]\n",
        "  l = [x for x in range(n)]\n",
        "  \n",
        "  for i in range(0, n):\n",
        "    K[i] = val[i]/wt[i]\n",
        "\n",
        "  for i in range (n):\n",
        "    mayor = 0\n",
        "    for j in range(i, n):\n",
        "      if K[j] > mayor:\n",
        "        mayor = K[j]\n",
        "        K[j], K[i] = K[i], K[j]\n",
        "        l[j], l[i] = l[i], l[j]\n",
        "\n",
        "  maximo = 0\n",
        "  for i in l:\n",
        "    if wt[i] <= W:\n",
        "      maximo += val[i]\n",
        "      W -= wt[i]\n",
        "\n",
        "  return maximo\n",
        "\n",
        "val = [60, 100, 120]\n",
        "wt = [10, 20, 30]\n",
        "W = 50\n",
        "n = len(val)\n",
        "print(knapSackGreddy(W, wt, val, n))"
      ],
      "metadata": {
        "id": "xGtMpt-1YcyM",
        "colab": {
          "base_uri": "https://localhost:8080/"
        },
        "outputId": "61d21a38-7d06-4200-e1fc-a10044230127"
      },
      "execution_count": 27,
      "outputs": [
        {
          "output_type": "stream",
          "name": "stdout",
          "text": [
            "160\n"
          ]
        }
      ]
    },
    {
      "cell_type": "code",
      "source": [],
      "metadata": {
        "colab": {
          "base_uri": "https://localhost:8080/"
        },
        "id": "wgZAvjPNsvrY",
        "outputId": "f1c736c2-2440-416d-85df-d0b23894599f"
      },
      "execution_count": null,
      "outputs": [
        {
          "output_type": "stream",
          "name": "stdout",
          "text": [
            "input array: [3, 1, 5, 6, 2]\n",
            "\n",
            "Pasada\n",
            "[1]\n",
            "1 , \u001b[33m1\u001b[0m , \n",
            "[1, 3]\n",
            "[2]\n",
            "2 , \u001b[33m2\u001b[0m , \n",
            "[2, 6]\n",
            "[2]\n",
            "2 , \u001b[33m2\u001b[0m , \n",
            "[2, 5]\n",
            "[2, 5, 6]\n",
            "[1]\n",
            "[1, 2]\n",
            "1 , \u001b[33m1\u001b[0m , 2\n",
            "[1, 2, 3]\n",
            "[1, 2, 3, 5]\n",
            "[1, 2, 3, 5, 6]\n",
            "[1, 2, 3, 5, 6]\n"
          ]
        }
      ]
    },
    {
      "cell_type": "markdown",
      "source": [
        "# 2.3. Ejemplo\n",
        "Ejemplo de un arreglo y las comparaciones que hace."
      ],
      "metadata": {
        "id": "oNwIvOLzYvk3"
      }
    },
    {
      "cell_type": "code",
      "source": [
        "arreglo = [3,1,5,6,2]\n",
        "arreglo = MergeSort(arreglo)\n",
        "\n",
        "print(arreglo)"
      ],
      "metadata": {
        "colab": {
          "base_uri": "https://localhost:8080/"
        },
        "id": "ZgWThePQTWoK",
        "outputId": "0963dbfa-d233-4ed4-aa56-f981b3bd69fe"
      },
      "execution_count": null,
      "outputs": [
        {
          "output_type": "stream",
          "name": "stdout",
          "text": [
            "1 , \u001b[33m1\u001b[0m , \n",
            "3 , \u001b[33m3\u001b[0m , \n",
            "2 , \u001b[33m2\u001b[0m , \n",
            "6 , \u001b[33m6\u001b[0m , \n",
            "2 , \u001b[33m2\u001b[0m , 6\n",
            "5 , \u001b[33m5\u001b[0m , \n",
            "2 , \u001b[33m2\u001b[0m , 5, 6\n",
            "3 , \u001b[33m3\u001b[0m , \n",
            "[1, 2, 3, 5, 6]\n"
          ]
        }
      ]
    },
    {
      "cell_type": "markdown",
      "source": [
        "# 2.4. Ejecucion del algoritmo paso a paso (verbose=True)\n",
        "Debido a esta opcion podemos ver el funcionamiento paso a paso en cada iteracion."
      ],
      "metadata": {
        "id": "LWbC-nViY5AP"
      }
    },
    {
      "cell_type": "code",
      "source": [],
      "metadata": {
        "id": "5NYyBYbCY8ev"
      },
      "execution_count": null,
      "outputs": []
    },
    {
      "cell_type": "markdown",
      "source": [
        "En cada iteracion se recorre:\n",
        "\n",
        "*   Elemento de la lista\n",
        "*   Elemento de la lista\n",
        "\n",
        "Color amarillo: Numero actual que se esta comparando.\n",
        "\n",
        "Color verde: Numeros que se estan realizando un cambio."
      ],
      "metadata": {
        "id": "xcF4pSQKY-1M"
      }
    },
    {
      "cell_type": "markdown",
      "source": [
        "# 3. Tiempo de ejecucion\n",
        "\n",
        "\n",
        "\n",
        "\n"
      ],
      "metadata": {
        "id": "WGv-nKgcZBTh"
      }
    },
    {
      "cell_type": "markdown",
      "source": [
        "## **Teorema (Tiempo de ejecucion).**\n",
        "### **Programacion Dinamica**\n",
        "**Tiempo de ejecucion : O(n * w)**\n",
        "\n",
        "### **Prueba del teorema**\n",
        "\n",
        "Siendo n cantidad de objetos de entrada y w la capacidad de peso maximo que puede almacenar\n",
        "\n",
        "1. Crear matriz de $n + 1$ filas y $W + 1$ columnas equivale a tener una complejidad de **$O(n * W)$**.\n",
        "\n",
        "2. Ciclo iterativo hasta **$n$** veces lo que equivale a una complejidad de $O(n)$.\n",
        "\n",
        "3. Ciclo iterativo hasta **$W$** veces lo que equivale a una complejidad de $O(W)$.\n",
        "\n",
        "$O(n) = 2 * O(n * W) + O(n) + 2 *O (1)$\n",
        "\n",
        "$O(n * W)$"
      ],
      "metadata": {
        "id": "TkgoBJIx_Wbv"
      }
    },
    {
      "cell_type": "markdown",
      "source": [
        "### **Estrategia Greddy**\n",
        "**Tiempo de ejecucion : O(n * log(n)**\n",
        "\n",
        "### **Prueba del teorema**\n",
        "\n",
        "Siendo n la cantidad de objetos de entrada:\n",
        "\n",
        "1. Ciclos anidados iterativos hasta $n$ veces, uno de esos ciclos tiene complejidad $O(n)$ debido a que itera en todo su largo y el segundo ciclo anidado tiene complejidad $O(log(n))$ debido a que este recorre la mitad de su totalidad, dandonos asi una complejidad de $O(n * log(n))$.\n",
        "\n",
        "2. Ciclo iterativo hasta $n$ veces lo que equivale a una complejidad de $O(n)$.\n",
        "\n",
        "$O(n * log(n))$"
      ],
      "metadata": {
        "id": "F2Tx1bRJ_SnU"
      }
    },
    {
      "cell_type": "code",
      "source": [],
      "metadata": {
        "id": "mW1AQ6JfZSvo"
      },
      "execution_count": null,
      "outputs": []
    },
    {
      "cell_type": "markdown",
      "source": [
        "# 4. Correctitud\n",
        "\n",
        "### **Teorema (Correctitud).**\n",
        "\n",
        "## Prueba del Teorema\n",
        "\n",
        "**Inicializacion**\n",
        "\n",
        "**Mantencion**"
      ],
      "metadata": {
        "id": "X-BQfq99ZS-N"
      }
    },
    {
      "cell_type": "markdown",
      "source": [
        "# 5. Experimentos\n",
        "\n",
        "## 5.1. Número de comparaciones\n",
        "\n",
        "A continuación se muestra gráficamente una comparación entre:\n",
        "\n",
        "* cantidad de comparaciones del peor caso calculadas matemáticamente,\n",
        "* cantidad de comparaciones del mejor caso calculadas matemáticamente (n-1 comparaciones si el arreglo está ordenado)\n",
        "* cantidad de comparaciones realizadas experimentalmente para entradas aleatorias\n",
        "\n",
        "para tamaños de problemas con $n \\in [5,100]$.\n",
        "\n",
        "Los arreglos de entrada son:\n",
        "\n",
        "*   Mejor caso: La secuencia será un arreglo ordenado de $0$ hasta $n-1$.\n",
        "*   Peor caso: La secuencia será un arreglo ordenado de $n-1$ hasta $0$.\n",
        "*   Caso aleatorio: La secuencia será un arreglo aleatorio de números entre 1 y 99, con $n$ cantidad de elementos.\n",
        "\n",
        "Como ejemplo del mejor y peor caso, se pueden observar las demostraciones anteriores, donde $n$ es reemplazado por 5."
      ],
      "metadata": {
        "id": "Jsm2BNkWZj5H"
      }
    },
    {
      "cell_type": "code",
      "source": [],
      "metadata": {
        "id": "K4kERRFqZpVq"
      },
      "execution_count": null,
      "outputs": []
    },
    {
      "cell_type": "markdown",
      "source": [
        "### Análisis de resultados"
      ],
      "metadata": {
        "id": "_sHzCsnnZqeo"
      }
    },
    {
      "cell_type": "markdown",
      "source": [
        "#5.2. Tiempo de ejecucion (experimental)"
      ],
      "metadata": {
        "id": "q-q6Bt39Zt7k"
      }
    },
    {
      "cell_type": "code",
      "source": [],
      "metadata": {
        "id": "ddP-P9LyZv0L"
      },
      "execution_count": null,
      "outputs": []
    },
    {
      "cell_type": "markdown",
      "source": [
        "**Analisis de resultados**"
      ],
      "metadata": {
        "id": "Qx5tgYh-Zw9c"
      }
    }
  ]
}