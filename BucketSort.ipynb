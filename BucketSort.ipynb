{
  "nbformat": 4,
  "nbformat_minor": 0,
  "metadata": {
    "colab": {
      "provenance": [],
      "authorship_tag": "ABX9TyOxrGLqVDS049VR+8U1pduV",
      "include_colab_link": true
    },
    "kernelspec": {
      "name": "python3",
      "display_name": "Python 3"
    },
    "language_info": {
      "name": "python"
    }
  },
  "cells": [
    {
      "cell_type": "markdown",
      "metadata": {
        "id": "view-in-github",
        "colab_type": "text"
      },
      "source": [
        "<a href=\"https://colab.research.google.com/github/Jorgee18/ADA-Informes/blob/main/BucketSort.ipynb\" target=\"_parent\"><img src=\"https://colab.research.google.com/assets/colab-badge.svg\" alt=\"Open In Colab\"/></a>"
      ]
    },
    {
      "cell_type": "markdown",
      "source": [
        "# **1. Problema de ordenamiento**\n",
        "**Entrada**: Un conjunto de n numeros $[a_1,a_2,...,a_n]$.\n",
        "\n",
        "**Salida**: Secuencia ordenada de la entrada $[a_1',a_2',...,a_n']$ de forma que quede cada numero al momento de su salida sea menor al anterior $a_1'\\leq a_2' \\leq... \\leq a_n'$. \n",
        "\n",
        "El algoritmo BucketSort es un metodo de ordenamiento donde mediante el uso de divide y venceras realiza el ordenamiento de una secuencia de numeros, retornando dicha secuencia ordenada de menor a mayor.\n",
        "\n",
        "Este tipo de algoritmos puede ser utilizado tanto para valores nuemricos como valores punto flotante, teniendo una semejanza con el agloritmo MergeSort debido a su uso de separacion de cada bucket para las operaciones de ordenamiento."
      ],
      "metadata": {
        "id": "1HhTonxTX3Lr"
      }
    },
    {
      "cell_type": "markdown",
      "source": [
        "# 2.Algoritmo\n",
        "El siguiente codigo muestra la implementacion en codigo del metodo de ordenamiento **BucketSort**.\n"
      ],
      "metadata": {
        "id": "UKVp7W4RYN9z"
      }
    },
    {
      "cell_type": "code",
      "source": [
        "import random as rd\n",
        "import matplotlib.pyplot as plt\n",
        "import datetime\n",
        "import math as mt\n",
        "from timeit import repeat\n",
        "from termcolor import colored\n",
        "import statistics as st"
      ],
      "metadata": {
        "id": "B-TERzrZbr0n"
      },
      "execution_count": 1,
      "outputs": []
    },
    {
      "cell_type": "code",
      "source": [
        "def insertionSort(b, verbose):\n",
        "    for i in range(1, len(b)):\n",
        "        actual = b[i]\n",
        "        j = i - 1\n",
        "        #print(colored(f\"{str(b[:])}\",\"blue\"))\n",
        "        #print(actual)\n",
        "        #print(b[j])\n",
        "        if verbose:\n",
        "          if b[j] > actual:\n",
        "            print(\"Debido a que \",colored(f\"{str(b[j])}\",\"green\"), \">\",colored(f\"{str(b[i])}\",\"green\"))\n",
        "            print(\"Se realiza un cambio en el orden del bucket\")\n",
        "          else:\n",
        "            print(\"Debido a que \", colored(f\"{str(b[j])}\",\"green\"), \"<\", colored(f\"{str(b[i])}\",\"green\"))\n",
        "            print(\"No se realiza un cambio en el orden del bucket\")\n",
        "\n",
        "        while j >= 0 and b[j] > actual: \n",
        "            b[j + 1] = b[j]\n",
        "            j -= 1\n",
        "\n",
        "        b[j + 1] = actual\n",
        "        if verbose:\n",
        "          if b[j] > actual:\n",
        "            print(\"Nuevo orden bucket\", colored(f\"{str(b[:])}\",\"red\"))\n",
        "            print(\"\")\n",
        "          else:\n",
        "            print(\"Orden Actual\", colored(f\"{str(b[:])}\",\"red\"))\n",
        "            print(\"\") \n",
        "\n",
        "    #print(b)\n",
        "    \n",
        "    return b "
      ],
      "metadata": {
        "id": "HruUfrv2hYbY"
      },
      "execution_count": 95,
      "outputs": []
    },
    {
      "cell_type": "code",
      "source": [
        "#Algoritmo BucketSort\n",
        "def BucketSort(a, verbose = False):\n",
        "  aux = []\n",
        "  largo = len(a)\n",
        "  if verbose:\n",
        "    print(\"Arreglo de entrada\",colored(f\"{str(a[:])}\",\"blue\"))\n",
        "    print('Implementacion BucketSort')\n",
        "    print('')\n",
        "\n",
        "  for i in range (0, largo):\n",
        "    aux.append([])\n",
        "  if verbose:\n",
        "    print(\"Creando un  arreglo donde se ingresen los numeros segun el 0.n\")\n",
        "  for j in a:\n",
        "    if verbose:\n",
        "     print(\"Numero:\", j)\n",
        "    variable = int(largo * j)\n",
        "\n",
        "    aux[variable].append(j)\n",
        "\n",
        "    if verbose:\n",
        "      print(\"Ingresado en la poscion:\", variable, \"Numero/s en dicha posicion\", colored(f\"{str(aux[variable])}\",\"yellow\"))\n",
        "      print('')\n",
        "\n",
        "  if verbose:\n",
        "    print(\"Dejando un arreglo auxiliar de la siguiente forma:\", colored(f\"{str(aux[:])}\",\"blue\"))\n",
        "    print('')\n",
        "\n",
        "  if verbose:\n",
        "    print('Implementacion InsertionSort')\n",
        "    print(\"Para los bucket de largo 1 no se realizan comparaciones para el ordenamiento\")\n",
        "    print(\"\")\n",
        "\n",
        "  for z in range (largo):\n",
        "    aux[z]= insertionSort(aux[z], verbose)\n",
        "\n",
        "  s = 0\n",
        "  for p in range(largo):\n",
        "    for k in range (len(aux[p])):\n",
        "      a[s] = aux[p][k]\n",
        "      s = s + 1\n",
        "  return a"
      ],
      "metadata": {
        "id": "xGtMpt-1YcyM"
      },
      "execution_count": 98,
      "outputs": []
    },
    {
      "cell_type": "code",
      "source": [
        "x = [0.897, 0.565, 0.656, 0.1234, 0.665, 0.3434, 0.865] \n",
        "x = BucketSort(x, True)\n",
        "\n",
        "print(\"Arreglo resultante:\", colored(f\"{str(x[:])}\",\"blue\"))"
      ],
      "metadata": {
        "colab": {
          "base_uri": "https://localhost:8080/"
        },
        "id": "fgrlG7kJeGjA",
        "outputId": "e42bda30-3872-41fa-ba9d-c4fa111ae38e"
      },
      "execution_count": 99,
      "outputs": [
        {
          "output_type": "stream",
          "name": "stdout",
          "text": [
            "Arreglo de entrada \u001b[34m[0.897, 0.565, 0.656, 0.1234, 0.665, 0.3434, 0.865]\u001b[0m\n",
            "Implementacion BucketSort\n",
            "\n",
            "Creando un  arreglo donde se ingresen los numeros segun el 0.n\n",
            "Numero: 0.897\n",
            "Ingresado en la poscion: 6 Numero/s en dicha posicion \u001b[33m[0.897]\u001b[0m\n",
            "\n",
            "Numero: 0.565\n",
            "Ingresado en la poscion: 3 Numero/s en dicha posicion \u001b[33m[0.565]\u001b[0m\n",
            "\n",
            "Numero: 0.656\n",
            "Ingresado en la poscion: 4 Numero/s en dicha posicion \u001b[33m[0.656]\u001b[0m\n",
            "\n",
            "Numero: 0.1234\n",
            "Ingresado en la poscion: 0 Numero/s en dicha posicion \u001b[33m[0.1234]\u001b[0m\n",
            "\n",
            "Numero: 0.665\n",
            "Ingresado en la poscion: 4 Numero/s en dicha posicion \u001b[33m[0.656, 0.665]\u001b[0m\n",
            "\n",
            "Numero: 0.3434\n",
            "Ingresado en la poscion: 2 Numero/s en dicha posicion \u001b[33m[0.3434]\u001b[0m\n",
            "\n",
            "Numero: 0.865\n",
            "Ingresado en la poscion: 6 Numero/s en dicha posicion \u001b[33m[0.897, 0.865]\u001b[0m\n",
            "\n",
            "Dejando un arreglo auxiliar de la siguiente forma: \u001b[34m[[0.1234], [], [0.3434], [0.565], [0.656, 0.665], [], [0.897, 0.865]]\u001b[0m\n",
            "\n",
            "Implementacion InsertionSort\n",
            "Para los bucket de largo 1 no se realizan comparaciones para el ordenamiento\n",
            "\n",
            "Debido a que  \u001b[32m0.656\u001b[0m < \u001b[32m0.665\u001b[0m\n",
            "No se realiza un cambio en el orden del bucket\n",
            "Orden Actual \u001b[31m[0.656, 0.665]\u001b[0m\n",
            "\n",
            "Debido a que  \u001b[32m0.897\u001b[0m > \u001b[32m0.865\u001b[0m\n",
            "Se realiza un cambio en el orden del bucket\n",
            "Nuevo orden bucket \u001b[31m[0.865, 0.897]\u001b[0m\n",
            "\n",
            "Arreglo resultante: \u001b[34m[0.1234, 0.3434, 0.565, 0.656, 0.665, 0.865, 0.897]\u001b[0m\n"
          ]
        }
      ]
    },
    {
      "cell_type": "markdown",
      "source": [
        "# 2.2. Descripcion del algoritmo\n",
        "El algoritmo o codigo recibe inicialmente un arreglo de n elementos numericos que deben de ser ordenados mediante los siguientes pasos.\n",
        "\n",
        "Los pasos"
      ],
      "metadata": {
        "id": "Sb2POGltYeqq"
      }
    },
    {
      "cell_type": "markdown",
      "source": [
        "# 2.3. Ejemplo\n",
        "Ejemplo de un arreglo y las comparaciones que hace."
      ],
      "metadata": {
        "id": "oNwIvOLzYvk3"
      }
    },
    {
      "cell_type": "markdown",
      "source": [
        "# 2.4. Ejecucion del algoritmo paso a paso (verbose=True)\n",
        "Debido a esta opcion podemos ver el funcionamiento paso a paso en cada iteracion."
      ],
      "metadata": {
        "id": "LWbC-nViY5AP"
      }
    },
    {
      "cell_type": "code",
      "source": [],
      "metadata": {
        "id": "5NYyBYbCY8ev"
      },
      "execution_count": null,
      "outputs": []
    },
    {
      "cell_type": "markdown",
      "source": [
        "En cada iteracion se recorre:\n",
        "\n",
        "*   Elemento de la lista\n",
        "*   Elemento de la lista\n",
        "\n",
        "Color amarillo: Numero actual que se esta comparando.\n",
        "\n",
        "Color verde: Numeros que se estan realizando un cambio."
      ],
      "metadata": {
        "id": "xcF4pSQKY-1M"
      }
    },
    {
      "cell_type": "markdown",
      "source": [
        "# 3. Tiempo de ejecucion\n",
        "## **Teorema (Tiempo de ejecucion).**\n",
        "\n",
        "Peor caso.\n",
        "\n",
        "## Prueba del teorema"
      ],
      "metadata": {
        "id": "WGv-nKgcZBTh"
      }
    },
    {
      "cell_type": "code",
      "source": [],
      "metadata": {
        "id": "mW1AQ6JfZSvo"
      },
      "execution_count": null,
      "outputs": []
    },
    {
      "cell_type": "markdown",
      "source": [
        "# 4. Correctitud\n",
        "\n",
        "### **Teorema (Correctitud).**\n",
        "\n",
        "## Prueba del Teorema\n",
        "\n",
        "**Inicializacion**\n",
        "\n",
        "**Mantencion**"
      ],
      "metadata": {
        "id": "X-BQfq99ZS-N"
      }
    },
    {
      "cell_type": "markdown",
      "source": [
        "# 5. Experimentos\n",
        "\n",
        "## 5.1. Número de comparaciones\n",
        "\n",
        "A continuación se muestra gráficamente una comparación entre:\n",
        "\n",
        "* cantidad de comparaciones del peor caso calculadas matemáticamente,\n",
        "* cantidad de comparaciones del mejor caso calculadas matemáticamente (n-1 comparaciones si el arreglo está ordenado)\n",
        "* cantidad de comparaciones realizadas experimentalmente para entradas aleatorias\n",
        "\n",
        "para tamaños de problemas con $n \\in [5,100]$.\n",
        "\n",
        "Los arreglos de entrada son:\n",
        "\n",
        "*   Mejor caso: La secuencia será un arreglo ordenado de $0$ hasta $n-1$.\n",
        "*   Peor caso: La secuencia será un arreglo ordenado de $n-1$ hasta $0$.\n",
        "*   Caso aleatorio: La secuencia será un arreglo aleatorio de números entre 1 y 99, con $n$ cantidad de elementos.\n",
        "\n",
        "Como ejemplo del mejor y peor caso, se pueden observar las demostraciones anteriores, donde $n$ es reemplazado por 5."
      ],
      "metadata": {
        "id": "Jsm2BNkWZj5H"
      }
    },
    {
      "cell_type": "code",
      "source": [],
      "metadata": {
        "id": "K4kERRFqZpVq"
      },
      "execution_count": null,
      "outputs": []
    },
    {
      "cell_type": "markdown",
      "source": [
        "### Análisis de resultados"
      ],
      "metadata": {
        "id": "_sHzCsnnZqeo"
      }
    },
    {
      "cell_type": "markdown",
      "source": [
        "#5.2. Tiempo de ejecucion (experimental)"
      ],
      "metadata": {
        "id": "q-q6Bt39Zt7k"
      }
    },
    {
      "cell_type": "code",
      "source": [],
      "metadata": {
        "id": "ddP-P9LyZv0L"
      },
      "execution_count": null,
      "outputs": []
    },
    {
      "cell_type": "markdown",
      "source": [
        "**Analisis de resultados**"
      ],
      "metadata": {
        "id": "Qx5tgYh-Zw9c"
      }
    }
  ]
}