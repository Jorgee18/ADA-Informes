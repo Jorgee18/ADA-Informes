{
  "nbformat": 4,
  "nbformat_minor": 0,
  "metadata": {
    "colab": {
      "provenance": [],
      "authorship_tag": "ABX9TyNoIlzUJ0j+/W1TpVdyci7w",
      "include_colab_link": true
    },
    "kernelspec": {
      "name": "python3",
      "display_name": "Python 3"
    },
    "language_info": {
      "name": "python"
    }
  },
  "cells": [
    {
      "cell_type": "markdown",
      "metadata": {
        "id": "view-in-github",
        "colab_type": "text"
      },
      "source": [
        "<a href=\"https://colab.research.google.com/github/Jorgee18/ADA-Informes/blob/main/BucketSort.ipynb\" target=\"_parent\"><img src=\"https://colab.research.google.com/assets/colab-badge.svg\" alt=\"Open In Colab\"/></a>"
      ]
    },
    {
      "cell_type": "markdown",
      "source": [
        "# **1. Problema de ordenamiento**\n",
        "**Entrada**: Un conjunto de n numeros $[a_1,a_2,...,a_n]$.\n",
        "\n",
        "**Salida**: Secuencia ordenada de la entrada $[a_1',a_2',...,a_n']$ de forma que quede cada numero al momento de su salida sea menor al anterior $a_1'\\leq a_2' \\leq... \\leq a_n'$. \n",
        "\n",
        "El algoritmo BucketSort es un metodo de ordenamiento donde mediante el uso de divide y venceras realiza el ordenamiento de una secuencia de numeros, retornando dicha secuencia ordenada de menor a mayor.\n",
        "\n",
        "Este tipo de algoritmos puede ser utilizado tanto para valores nuemricos como valores punto flotante, teniendo una semejanza con el agloritmo MergeSort debido a su uso de separacion de cada bucket para las operaciones de ordenamiento."
      ],
      "metadata": {
        "id": "1HhTonxTX3Lr"
      }
    },
    {
      "cell_type": "markdown",
      "source": [
        "![image.png](data:image/png;base64,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)"
      ],
      "metadata": {
        "id": "LGgc-D3u3fJi"
      }
    },
    {
      "cell_type": "markdown",
      "source": [
        "# 2.Algoritmo\n",
        "El siguiente codigo muestra la implementacion en codigo del metodo de ordenamiento **BucketSort**.\n"
      ],
      "metadata": {
        "id": "UKVp7W4RYN9z"
      }
    },
    {
      "cell_type": "code",
      "source": [
        "import random as rd\n",
        "import matplotlib.pyplot as plt\n",
        "import datetime\n",
        "import math as mt\n",
        "from timeit import repeat\n",
        "from termcolor import colored\n",
        "import statistics as st"
      ],
      "metadata": {
        "id": "B-TERzrZbr0n"
      },
      "execution_count": 1,
      "outputs": []
    },
    {
      "cell_type": "code",
      "source": [
        "def insertionSort(b, verbose):\n",
        "    for i in range(1, len(b)):\n",
        "        actual = b[i]\n",
        "        j = i - 1\n",
        "        if verbose:\n",
        "          if b[j] > actual:\n",
        "            print(\"Debido a que \",colored(f\"{str(b[j])}\",\"green\"), \">\",colored(f\"{str(b[i])}\",\"green\"))\n",
        "            print(\"Se realiza un cambio en el orden del bucket\")\n",
        "          else:\n",
        "            print(\"Debido a que \", colored(f\"{str(b[j])}\",\"green\"), \"<\", colored(f\"{str(b[i])}\",\"green\"))\n",
        "            print(\"No se realiza un cambio en el orden del bucket\")\n",
        "\n",
        "        while j >= 0 and b[j] > actual: \n",
        "            b[j + 1] = b[j]\n",
        "            j -= 1\n",
        "\n",
        "        b[j + 1] = actual\n",
        "        if verbose:\n",
        "          if b[j] > actual:\n",
        "            print(\"Nuevo orden bucket\", colored(f\"{str(b[:])}\",\"red\"))\n",
        "            print(\"\")\n",
        "          else:\n",
        "            print(\"Orden Actual\", colored(f\"{str(b[:])}\",\"red\"))\n",
        "            print(\"\") \n",
        "\n",
        "    \n",
        "    return b "
      ],
      "metadata": {
        "id": "HruUfrv2hYbY"
      },
      "execution_count": 95,
      "outputs": []
    },
    {
      "cell_type": "code",
      "source": [
        "#Algoritmo BucketSort\n",
        "def BucketSort(a, verbose = False):\n",
        "  aux = []\n",
        "  largo = len(a)\n",
        "  if verbose:\n",
        "    print(\"Arreglo de entrada\",colored(f\"{str(a[:])}\",\"blue\"))\n",
        "    print('Implementacion BucketSort')\n",
        "    print('')\n",
        "\n",
        "  for i in range (0, largo):\n",
        "    aux.append([])\n",
        "  if verbose:\n",
        "    print(\"Creando un  arreglo donde se ingresen los numeros segun el 0.n\")\n",
        "  for j in a:\n",
        "    if verbose:\n",
        "     print(\"Numero:\", j)\n",
        "    variable = int(largo * j)\n",
        "\n",
        "    aux[variable].append(j)\n",
        "\n",
        "    if verbose:\n",
        "      print(\"Ingresado en la poscion:\", variable, \"Numero/s en dicha posicion\", colored(f\"{str(aux[variable])}\",\"yellow\"))\n",
        "      print('')\n",
        "\n",
        "  if verbose:\n",
        "    print(\"Dejando un arreglo auxiliar de la siguiente forma:\", colored(f\"{str(aux[:])}\",\"blue\"))\n",
        "    print('')\n",
        "\n",
        "  if verbose:\n",
        "    print('Implementacion InsertionSort')\n",
        "    print(\"Para los bucket de largo 1 no se realizan comparaciones para el ordenamiento\")\n",
        "    print(\"\")\n",
        "\n",
        "  for z in range (largo):\n",
        "    aux[z]= insertionSort(aux[z], verbose)\n",
        "\n",
        "  s = 0\n",
        "  for p in range(largo):\n",
        "    for k in range (len(aux[p])):\n",
        "      a[s] = aux[p][k]\n",
        "      s = s + 1\n",
        "  return a"
      ],
      "metadata": {
        "id": "xGtMpt-1YcyM"
      },
      "execution_count": 98,
      "outputs": []
    },
    {
      "cell_type": "markdown",
      "source": [
        "# 2.2. Descripcion del algoritmo\n",
        "El algoritmo o codigo recibe inicialmente un arreglo de n elementos numericos que deben de ser ordenados mediante los siguientes pasos.\n",
        "\n",
        "1. Crear una colección de casilleros vacíos.\n",
        "\n",
        "2. Colocar cada elemento a ordenar en un único casillero.\n",
        "\n",
        "3. Ordenar individualmente cada casillero.\n",
        "\n",
        "4. Devolver los elementos de cada casillero en orden.\n"
      ],
      "metadata": {
        "id": "Sb2POGltYeqq"
      }
    },
    {
      "cell_type": "markdown",
      "source": [
        "# 2.3. Ejemplo\n",
        "$a = [0.78, 0.17, 0.44, 0.23, 0.43, 0.67, 0.75]$\n",
        "\n",
        "El primer paso que realiza el algoritmo BucketSort es crear un arreglo vacio del tamaño del arreglo originial.\n",
        "\n",
        "$a = [0.78, 0.17, 0.44, 0.23, 0.43, 0.67, 0.75]$\n",
        "\n",
        "$b = [  [], [], [], [], [], [], [], [], [], [] ]$\n",
        "\n",
        "Como segundo paso guardamos los numeros en cada bucket dependiendo de su numero despues de el 0.n.\n",
        "\n",
        "$b = [  [], [0.17], [0.23], [], [0.44, 0.43], [], [0.67], [0.78, 0.75], [], [] ]$\n",
        "\n",
        "Se ordena individualmente cada casillero y si dicho casillero tiene de largo 1 este estara ya ordenado.\n",
        "\n",
        "$b = [  [], [0.17], [0.23], [], [0.43, 0.44], [], [0.67], [0.75, 0.78], [], [] ]$\n",
        "\n",
        "Por ultimo se reingresan los valores al arreglo original de manera ordenada.\n",
        "\n",
        "$a = [0.17, 0.23, 0.43, 0.44, 0.67, 0.75, 0.78]$\n",
        "\n"
      ],
      "metadata": {
        "id": "oNwIvOLzYvk3"
      }
    },
    {
      "cell_type": "markdown",
      "source": [
        "# 2.4. Ejecucion del algoritmo paso a paso (verbose=True)\n",
        "Debido a esta opcion podemos ver el funcionamiento paso a paso en cada iteracion."
      ],
      "metadata": {
        "id": "LWbC-nViY5AP"
      }
    },
    {
      "cell_type": "code",
      "source": [
        "x = [0.897, 0.565, 0.656, 0.1234, 0.665, 0.3434, 0.865] \n",
        "x = BucketSort(x, True)\n",
        "\n",
        "print(\"Arreglo resultante:\", colored(f\"{str(x[:])}\",\"blue\"))"
      ],
      "metadata": {
        "colab": {
          "base_uri": "https://localhost:8080/"
        },
        "id": "fgrlG7kJeGjA",
        "outputId": "e42bda30-3872-41fa-ba9d-c4fa111ae38e"
      },
      "execution_count": 99,
      "outputs": [
        {
          "output_type": "stream",
          "name": "stdout",
          "text": [
            "Arreglo de entrada \u001b[34m[0.897, 0.565, 0.656, 0.1234, 0.665, 0.3434, 0.865]\u001b[0m\n",
            "Implementacion BucketSort\n",
            "\n",
            "Creando un  arreglo donde se ingresen los numeros segun el 0.n\n",
            "Numero: 0.897\n",
            "Ingresado en la poscion: 6 Numero/s en dicha posicion \u001b[33m[0.897]\u001b[0m\n",
            "\n",
            "Numero: 0.565\n",
            "Ingresado en la poscion: 3 Numero/s en dicha posicion \u001b[33m[0.565]\u001b[0m\n",
            "\n",
            "Numero: 0.656\n",
            "Ingresado en la poscion: 4 Numero/s en dicha posicion \u001b[33m[0.656]\u001b[0m\n",
            "\n",
            "Numero: 0.1234\n",
            "Ingresado en la poscion: 0 Numero/s en dicha posicion \u001b[33m[0.1234]\u001b[0m\n",
            "\n",
            "Numero: 0.665\n",
            "Ingresado en la poscion: 4 Numero/s en dicha posicion \u001b[33m[0.656, 0.665]\u001b[0m\n",
            "\n",
            "Numero: 0.3434\n",
            "Ingresado en la poscion: 2 Numero/s en dicha posicion \u001b[33m[0.3434]\u001b[0m\n",
            "\n",
            "Numero: 0.865\n",
            "Ingresado en la poscion: 6 Numero/s en dicha posicion \u001b[33m[0.897, 0.865]\u001b[0m\n",
            "\n",
            "Dejando un arreglo auxiliar de la siguiente forma: \u001b[34m[[0.1234], [], [0.3434], [0.565], [0.656, 0.665], [], [0.897, 0.865]]\u001b[0m\n",
            "\n",
            "Implementacion InsertionSort\n",
            "Para los bucket de largo 1 no se realizan comparaciones para el ordenamiento\n",
            "\n",
            "Debido a que  \u001b[32m0.656\u001b[0m < \u001b[32m0.665\u001b[0m\n",
            "No se realiza un cambio en el orden del bucket\n",
            "Orden Actual \u001b[31m[0.656, 0.665]\u001b[0m\n",
            "\n",
            "Debido a que  \u001b[32m0.897\u001b[0m > \u001b[32m0.865\u001b[0m\n",
            "Se realiza un cambio en el orden del bucket\n",
            "Nuevo orden bucket \u001b[31m[0.865, 0.897]\u001b[0m\n",
            "\n",
            "Arreglo resultante: \u001b[34m[0.1234, 0.3434, 0.565, 0.656, 0.665, 0.865, 0.897]\u001b[0m\n"
          ]
        }
      ]
    },
    {
      "cell_type": "markdown",
      "source": [
        "En cada iteracion se recorre:\n",
        "\n",
        "*   Elemento de la lista\n",
        "\n",
        "Color azul: Arreglo/Arreglo Auxiliar/Arreglo Resultante.\n",
        "\n",
        "Color amarillo: Numero que sera ingresado al bucket.\n",
        "\n",
        "Color verde: Numeros que se estan comparando.\n",
        "\n",
        "Color Rojo: Bucket que se esta ordenando."
      ],
      "metadata": {
        "id": "xcF4pSQKY-1M"
      }
    },
    {
      "cell_type": "markdown",
      "source": [
        "# 3. Tiempo de ejecucion\n",
        "## **Teorema (Tiempo de ejecucion).**\n",
        "\n",
        "Peor caso.\n",
        "\n",
        "## Prueba del teorema"
      ],
      "metadata": {
        "id": "WGv-nKgcZBTh"
      }
    },
    {
      "cell_type": "code",
      "source": [],
      "metadata": {
        "id": "mW1AQ6JfZSvo"
      },
      "execution_count": null,
      "outputs": []
    },
    {
      "cell_type": "markdown",
      "source": [
        "# 4. Correctitud\n",
        "\n",
        "### **Teorema (Correctitud).**\n",
        "\n",
        "## Prueba del Teorema\n",
        "\n",
        "**Inicializacion**\n",
        "\n",
        "**Mantencion**"
      ],
      "metadata": {
        "id": "X-BQfq99ZS-N"
      }
    },
    {
      "cell_type": "markdown",
      "source": [
        "# 5. Experimentos\n",
        "\n",
        "## 5.1. Número de comparaciones\n",
        "\n",
        "A continuación se muestra gráficamente una comparación entre:\n",
        "\n",
        "* cantidad de comparaciones del peor caso calculadas matemáticamente,\n",
        "* cantidad de comparaciones del mejor caso calculadas matemáticamente (n-1 comparaciones si el arreglo está ordenado)\n",
        "* cantidad de comparaciones realizadas experimentalmente para entradas aleatorias\n",
        "\n",
        "para tamaños de problemas con $n \\in [5,100]$.\n",
        "\n",
        "Los arreglos de entrada son:\n",
        "\n",
        "*   Mejor caso: La secuencia será un arreglo ordenado de $0$ hasta $n-1$.\n",
        "*   Peor caso: La secuencia será un arreglo ordenado de $n-1$ hasta $0$.\n",
        "*   Caso aleatorio: La secuencia será un arreglo aleatorio de números entre 1 y 99, con $n$ cantidad de elementos.\n",
        "\n",
        "Como ejemplo del mejor y peor caso, se pueden observar las demostraciones anteriores, donde $n$ es reemplazado por 5."
      ],
      "metadata": {
        "id": "Jsm2BNkWZj5H"
      }
    },
    {
      "cell_type": "code",
      "source": [],
      "metadata": {
        "id": "K4kERRFqZpVq"
      },
      "execution_count": null,
      "outputs": []
    },
    {
      "cell_type": "markdown",
      "source": [
        "### Análisis de resultados"
      ],
      "metadata": {
        "id": "_sHzCsnnZqeo"
      }
    },
    {
      "cell_type": "markdown",
      "source": [
        "#5.2. Tiempo de ejecucion (experimental)"
      ],
      "metadata": {
        "id": "q-q6Bt39Zt7k"
      }
    },
    {
      "cell_type": "code",
      "source": [],
      "metadata": {
        "id": "ddP-P9LyZv0L"
      },
      "execution_count": null,
      "outputs": []
    },
    {
      "cell_type": "markdown",
      "source": [
        "**Analisis de resultados**"
      ],
      "metadata": {
        "id": "Qx5tgYh-Zw9c"
      }
    }
  ]
}