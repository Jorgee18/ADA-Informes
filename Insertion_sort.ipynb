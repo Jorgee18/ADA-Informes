{
  "nbformat": 4,
  "nbformat_minor": 0,
  "metadata": {
    "colab": {
      "name": "Insertion sort",
      "provenance": [],
      "collapsed_sections": [],
      "authorship_tag": "ABX9TyPg8kC3kj4tqORJPMvgv3aF",
      "include_colab_link": true
    },
    "kernelspec": {
      "name": "python3",
      "display_name": "Python 3"
    },
    "language_info": {
      "name": "python"
    }
  },
  "cells": [
    {
      "cell_type": "markdown",
      "metadata": {
        "id": "view-in-github",
        "colab_type": "text"
      },
      "source": [
        "<a href=\"https://colab.research.google.com/github/Jorgee18/ADA-Informes/blob/main/Insertion_sort.ipynb\" target=\"_parent\"><img src=\"https://colab.research.google.com/assets/colab-badge.svg\" alt=\"Open In Colab\"/></a>"
      ]
    },
    {
      "cell_type": "markdown",
      "source": [
        "# **1. Problema de ordenamiento**\n",
        "**Entrada**: Un conjunto de n numeros $[a_1,a_2,...,a_n]$.\n",
        "\n",
        "**Salida**: Secuencia ordenada de la entrada $[a_1',a_2',...,a_n']$ de forma que quede cada numero al momento de su salida sea menor al anterior $a_1'\\leq a_2' \\leq... \\leq a_n'$.  \n",
        "\n",
        "Los problemas de ordenamieto han existido y evolucionado a traves de los años, generando un interes en las personas e investigadores que con el fin de resolverlos crearon distintas tipos de soluciones. El insertion sort es un sistema de ordenamiento que por medio de la manipulacion de los numeros, consigue generar un orden dentro de un conjunto de numeros.\n"
      ],
      "metadata": {
        "id": "M5vsejeVrgUa"
      }
    },
    {
      "cell_type": "markdown",
      "source": [
        "# 2.Insertion Sort\n",
        "El siguiente codigo muestra la implementacion en codigo del metodo de ordenamiento **Insertion sort**."
      ],
      "metadata": {
        "id": "Be8Y3s-gASvq"
      }
    },
    {
      "cell_type": "markdown",
      "source": [
        "## 2.1. Codigo"
      ],
      "metadata": {
        "id": "6K9qA7b4A_6H"
      }
    },
    {
      "cell_type": "code",
      "source": [
        "import random\n",
        "from termcolor import colored"
      ],
      "metadata": {
        "id": "CTFauW35_X2P"
      },
      "execution_count": 48,
      "outputs": []
    },
    {
      "cell_type": "code",
      "source": [
        "def InsertionSort(a, verbose):\n",
        "  contador = 0 #Contador de comparaciones\n",
        "  largo = len(a) #Largo del arreglo\n",
        "\n",
        "  if verbose == True: print(\"input array:\", a)\n",
        "\n",
        "  for i in range (1, largo):\n",
        "    actual = a[i] #Guardando el numero actual que se comparara\n",
        "    if verbose == True:\n",
        "      print(\"\\nPasada\", i)\n",
        "      print(str(a[:i])[1:-1],\",\",colored(f\"{str(a[i:i+1])[1:-1]}\",\"yellow\"),\",\",str(a[i+1:])[1:-1])\n",
        "\n",
        "    for k in range (i - 1, -1, -1):\n",
        "      if verbose == True: \n",
        "        print(a)\n",
        "      if a[k] < actual: #Si el elemento siguiente es menor al actual se realizara un cambio \n",
        "        a[k + 1] = actual\n",
        "        contador = contador + 1\n",
        "        break\n",
        "      a[k + 1] = a[k]\n",
        "    if verbose == True: \n",
        "      print(a)\n",
        "    if actual < a[0]: #Si el actual es menor que el numero de el principio se generara un intercambio\n",
        "      a[0] = actual\n",
        "      contador = contador + 1\n",
        "      if verbose == True: \n",
        "        print(a)\n",
        "    already_sorted = False\n",
        "\n",
        "  return a\n"
      ],
      "metadata": {
        "id": "yJrY9SXTPSrE"
      },
      "execution_count": 95,
      "outputs": []
    },
    {
      "cell_type": "markdown",
      "source": [
        "Entrada: $a=[5,8,7,1,3]$\n",
        "\n",
        "Salida: $a=[1,3,5,7,8]$"
      ],
      "metadata": {
        "id": "8UyNkbY3bm1V"
      }
    },
    {
      "cell_type": "markdown",
      "source": [
        ""
      ],
      "metadata": {
        "id": "77tN9K4uBjVx"
      }
    },
    {
      "cell_type": "markdown",
      "source": [
        "# 2.2. Descripcion del algoritmo\n",
        "El algoritmo o codigo recibe inicialmente un arreglo de n elementos numericos que deben de ser ordenados mediante los siguientes pasos.\n",
        "\n",
        "1. Al comenzar se asume que el primer dato numerico ya esta ordenado de decir la posicion arreglo[0].\n",
        "\n",
        "2. Para continuar se considera la posicion siguiente que sera el numero \"actual\" con el que se compararan el resto de valores numericos del arreglo desde la posicion 0 hasta la n-1 (en caso de python 0 hasta n) de forma que encuentre la posicion correcta. Donde sera colocado en dicha posicion de modo que cada valor se ira corriendo uno a la derecha como se vera en un ejemplo a continuacion.\n",
        "\n",
        "3. Este proceso sera repetido hasta recorrer la totalidad de valores numericos del arreglo.\n"
      ],
      "metadata": {
        "id": "BAHR-kHwHg-8"
      }
    },
    {
      "cell_type": "markdown",
      "source": [
        "# 2.3. Ejemplo\n",
        "Como ejemplo podemos conserar el arreglo:\n",
        "\n",
        "$a=[5,8,7,1,3]$\n",
        "\n",
        "En la primera vuelta al realizar una comparacion del numero 5 con el 8 no se realiza un cambio.\n",
        "$a=[5,8,7,1,3]$\n",
        "\n",
        "En la segunda vuelta debido a que el numero 7 es menor al 8 este se intercambia de posicion.\n",
        "\n",
        "$a=[5,7,8,1,3]$\n",
        "\n",
        "En la tercera vuelta dado que el numero 1 es menor al 5, 7 y el 8, se genera un cambio de posicion dejandolo al inicio del arreglo.\n",
        "\n",
        "$a=[1,5,7,8,3]$\n",
        "\n",
        "En la ultima vuelta el numero 3 al ser menos que los valores 5,7 y 8 es reposicionado a la posicion 1 del arreglo(a[1]).\n",
        "\n",
        "$a=[1,3,5,7,8]$\n",
        "\n"
      ],
      "metadata": {
        "id": "J2RvCqaGKgRG"
      }
    },
    {
      "cell_type": "markdown",
      "source": [
        "# 2.4. Ejecucion del algoritmo paso a paso (verbose=True)\n",
        "\n",
        "Debido a esta opcion podemos ver el funcionamiento paso a paso en cada iteracion."
      ],
      "metadata": {
        "id": "2Hz8ZGM0Mfsw"
      }
    },
    {
      "cell_type": "code",
      "source": [
        "a = [5,8,7,1,3]\n",
        "a = InsertionSort(a, True)\n"
      ],
      "metadata": {
        "colab": {
          "base_uri": "https://localhost:8080/"
        },
        "id": "CbnAvv3BKeaS",
        "outputId": "2190b1b4-b80d-456f-b7aa-92e9c100a8ca"
      },
      "execution_count": 96,
      "outputs": [
        {
          "output_type": "stream",
          "name": "stdout",
          "text": [
            "input array: [5, 8, 7, 1, 3]\n",
            "\n",
            "Pasada 1\n",
            "5 , \u001b[33m8\u001b[0m , 7, 1, 3\n",
            "[5, 8, 7, 1, 3]\n",
            "[5, 8, 7, 1, 3]\n",
            "\n",
            "Pasada 2\n",
            "5, 8 , \u001b[33m7\u001b[0m , 1, 3\n",
            "[5, 8, 7, 1, 3]\n",
            "[5, 8, 8, 1, 3]\n",
            "[5, 7, 8, 1, 3]\n",
            "\n",
            "Pasada 3\n",
            "5, 7, 8 , \u001b[33m1\u001b[0m , 3\n",
            "[5, 7, 8, 1, 3]\n",
            "[5, 7, 8, 8, 3]\n",
            "[5, 7, 7, 8, 3]\n",
            "[5, 5, 7, 8, 3]\n",
            "[1, 5, 7, 8, 3]\n",
            "\n",
            "Pasada 4\n",
            "1, 5, 7, 8 , \u001b[33m3\u001b[0m , \n",
            "[1, 5, 7, 8, 3]\n",
            "[1, 5, 7, 8, 8]\n",
            "[1, 5, 7, 7, 8]\n",
            "[1, 5, 5, 7, 8]\n",
            "[1, 3, 5, 7, 8]\n"
          ]
        }
      ]
    },
    {
      "cell_type": "markdown",
      "source": [
        "En cada iteracion se recorre:\n",
        "\n",
        "*   Elemento de la lista\n",
        "*   Elemento de la lista\n",
        "\n",
        "Color amarillo: Numero actual que se esta comparando.\n",
        "\n",
        "Color verde: Numeros que se estan realizando un cambio."
      ],
      "metadata": {
        "id": "gQ3S61FsM-Xd"
      }
    }
  ]
}