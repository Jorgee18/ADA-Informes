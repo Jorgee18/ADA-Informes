{
  "nbformat": 4,
  "nbformat_minor": 0,
  "metadata": {
    "colab": {
      "provenance": [],
      "collapsed_sections": [],
      "authorship_tag": "ABX9TyNsRGKJrCKbaqGTIUzqfJ6v",
      "include_colab_link": true
    },
    "kernelspec": {
      "name": "python3",
      "display_name": "Python 3"
    },
    "language_info": {
      "name": "python"
    }
  },
  "cells": [
    {
      "cell_type": "markdown",
      "metadata": {
        "id": "view-in-github",
        "colab_type": "text"
      },
      "source": [
        "<a href=\"https://colab.research.google.com/github/Jorgee18/ADA-Informes/blob/main/Cutting_a_Rod.ipynb\" target=\"_parent\"><img src=\"https://colab.research.google.com/assets/colab-badge.svg\" alt=\"Open In Colab\"/></a>"
      ]
    },
    {
      "cell_type": "markdown",
      "source": [
        "# **1. Problema Corte de varillas**\n",
        "**Entrada**: Largo de varilla $n$, vector de precios por cada medida $i=1..n$.\n",
        "\n",
        "**Salida**: Retorno máximo $r_n$ que se puede obtener cortando la varilla y vendiendo las partes.\n",
        "\n",
        "El problema de corte de varillas utiliza metodos de programacion dinamica para encontrar el precio optimo en que la \"varilla\" puede ser vendida con un mayor beneficio. Pero que es la programacion dinamica? su definicion es que mediante el almacenamiento y uso de soluciones anteriores (subproblemas) logra optimizar los algorimtos evitando trabajos redundantes. \n",
        "\n",
        "\n"
      ],
      "metadata": {
        "id": "1HhTonxTX3Lr"
      }
    },
    {
      "cell_type": "markdown",
      "source": [
        "# 2.Algoritmo Cutting a Rod\n",
        "\n",
        "A continuacion se mostrara el codigo que soluciona el problema de corte de varillas."
      ],
      "metadata": {
        "id": "UKVp7W4RYN9z"
      }
    },
    {
      "cell_type": "code",
      "source": [
        "import random as rd\n",
        "import matplotlib.pyplot as plt\n",
        "import datetime\n",
        "import math as mt\n",
        "from timeit import repeat\n",
        "from termcolor import colored"
      ],
      "metadata": {
        "id": "TWs4N5j-k-GM"
      },
      "execution_count": 1,
      "outputs": []
    },
    {
      "cell_type": "code",
      "source": [
        "#Funcion Cutting a Rod recursivo\n",
        "cont = 0\n",
        "min = -999999\n",
        "def cuttingRodRecursivo(p, n, cont):\n",
        "  if n == 0: return 0;\n",
        "  cont+= 1\n",
        "  maxVal = min\n",
        "\n",
        "  for i in range(1, n + 1):\n",
        "    maxVal = max(maxVal, p[i - 1] + cuttingRodRecursivo(p, n - i, cont))\n",
        "\n",
        "  return maxVal\n",
        "\n"
      ],
      "metadata": {
        "id": "CJU5X-NQYco4"
      },
      "execution_count": 37,
      "outputs": []
    },
    {
      "cell_type": "code",
      "source": [
        "#Funcion Cutting a Rod dinamico\n",
        "min = -32767\n",
        " \n",
        "def cuttingRodDinamico(price, n, cont):\n",
        "    a = [0 for x in range(n + 1)]\n",
        "    a[0] = 0\n",
        " \n",
        "    for i in range(1, n + 1):\n",
        "        cont+= 1\n",
        "        maxVal = min\n",
        "        for j in range(i):\n",
        "             maxVal = max(maxVal, price[j] + a[i - j - 1])\n",
        "        a[i] = maxVal\n",
        " \n",
        "    return a[n], cont\n",
        " "
      ],
      "metadata": {
        "id": "4v6DGpP6nqgh"
      },
      "execution_count": 46,
      "outputs": []
    },
    {
      "cell_type": "code",
      "source": [
        "arreglo = [1,3,7,9,11,13,16,19,24,30]\n",
        "largo = len(arreglo)\n",
        "\n",
        "print(cuttingRodDinamico(arreglo, largo, cont))\n",
        "print(cuttingRodRecursivo(arreglo, largo, cont))"
      ],
      "metadata": {
        "colab": {
          "base_uri": "https://localhost:8080/"
        },
        "id": "wgZAvjPNsvrY",
        "outputId": "67ff0958-fa37-495a-c7a8-78c52e87d5c8"
      },
      "execution_count": 49,
      "outputs": [
        {
          "output_type": "stream",
          "name": "stdout",
          "text": [
            "(30, 10)\n",
            "30\n"
          ]
        }
      ]
    },
    {
      "cell_type": "markdown",
      "source": [
        "# 2.2. Descripcion del algoritmo\n",
        "El algoritmo o codigo recibe inicialmente un arreglo de n elementos numericos que equivalen a los precios por cada medida.\n",
        "Y retorna el corte maximo que se puede obtener vendiendo las partes.\n",
        "\n",
        "Cutting a Rod funcionara de la siguiente manera:\n",
        "\n",
        "1. Primero se debe observar cual seria la solcuion mas optima para realizacion del algoritmo de corte de varillas que en este caso es (maxVal, price[j] + a[i - j - 1]).\n",
        "\n",
        "2. Tras hacer esto ordenamos los problemas de menor a mayor, de modo que guardemos el resultado asociado a cada subproblema. \n",
        "\n",
        "3. Para que por medio de la utilizacion de los resultados anteriores encuentre el precio optimo para conseguir la mayor ganancia.\n",
        "\n",
        "Si esto fuese hecho recursivamente el proceso del algoritmo se agrandaria debido a que se tendria que resolver los mismos problemas constantementes. Causando una complejidad mayor para resolver el mismo problema."
      ],
      "metadata": {
        "id": "Sb2POGltYeqq"
      }
    },
    {
      "cell_type": "markdown",
      "source": [
        "# 2.3. Ejemplo\n",
        "Ejemplo de un arreglo y las comparaciones que hace."
      ],
      "metadata": {
        "id": "oNwIvOLzYvk3"
      }
    },
    {
      "cell_type": "code",
      "source": [
        "arreglo = [3,1,5,6,2]\n",
        "arreglo = MergeSort(arreglo)\n",
        "\n",
        "print(arreglo)"
      ],
      "metadata": {
        "colab": {
          "base_uri": "https://localhost:8080/"
        },
        "id": "ZgWThePQTWoK",
        "outputId": "0963dbfa-d233-4ed4-aa56-f981b3bd69fe"
      },
      "execution_count": null,
      "outputs": [
        {
          "output_type": "stream",
          "name": "stdout",
          "text": [
            "1 , \u001b[33m1\u001b[0m , \n",
            "3 , \u001b[33m3\u001b[0m , \n",
            "2 , \u001b[33m2\u001b[0m , \n",
            "6 , \u001b[33m6\u001b[0m , \n",
            "2 , \u001b[33m2\u001b[0m , 6\n",
            "5 , \u001b[33m5\u001b[0m , \n",
            "2 , \u001b[33m2\u001b[0m , 5, 6\n",
            "3 , \u001b[33m3\u001b[0m , \n",
            "[1, 2, 3, 5, 6]\n"
          ]
        }
      ]
    },
    {
      "cell_type": "markdown",
      "source": [
        "# 2.4. Ejecucion del algoritmo paso a paso (verbose=True)\n",
        "Debido a esta opcion podemos ver el funcionamiento paso a paso en cada iteracion."
      ],
      "metadata": {
        "id": "LWbC-nViY5AP"
      }
    },
    {
      "cell_type": "code",
      "source": [],
      "metadata": {
        "id": "5NYyBYbCY8ev"
      },
      "execution_count": null,
      "outputs": []
    },
    {
      "cell_type": "markdown",
      "source": [
        "En cada iteracion se recorre:\n",
        "\n",
        "*   Elemento de la lista\n",
        "*   Elemento de la lista\n",
        "\n",
        "Color amarillo: Numero actual que se esta comparando.\n",
        "\n",
        "Color verde: Numeros que se estan realizando un cambio."
      ],
      "metadata": {
        "id": "xcF4pSQKY-1M"
      }
    },
    {
      "cell_type": "markdown",
      "source": [
        "# 3. Tiempo de ejecucion\n",
        "## **Teorema (Tiempo de ejecucion).**\n",
        "\n",
        "Peor caso.\n",
        "\n",
        "## Prueba del teorema"
      ],
      "metadata": {
        "id": "WGv-nKgcZBTh"
      }
    },
    {
      "cell_type": "code",
      "source": [],
      "metadata": {
        "id": "mW1AQ6JfZSvo"
      },
      "execution_count": null,
      "outputs": []
    },
    {
      "cell_type": "markdown",
      "source": [
        "# 4. Correctitud\n",
        "\n",
        "### **Teorema (Correctitud).**\n",
        "\n",
        "## Prueba del Teorema\n",
        "\n",
        "**Inicializacion**\n",
        "\n",
        "**Mantencion**"
      ],
      "metadata": {
        "id": "X-BQfq99ZS-N"
      }
    },
    {
      "cell_type": "markdown",
      "source": [
        "# 5. Experimentos\n",
        "\n",
        "## 5.1. Número de comparaciones\n",
        "\n",
        "A continuación se muestra gráficamente una comparación entre:\n",
        "\n",
        "* cantidad de comparaciones del peor caso calculadas matemáticamente,\n",
        "* cantidad de comparaciones del mejor caso calculadas matemáticamente (n-1 comparaciones si el arreglo está ordenado)\n",
        "* cantidad de comparaciones realizadas experimentalmente para entradas aleatorias\n",
        "\n",
        "para tamaños de problemas con $n \\in [5,100]$.\n",
        "\n",
        "Los arreglos de entrada son:\n",
        "\n",
        "*   Mejor caso: La secuencia será un arreglo ordenado de $0$ hasta $n-1$.\n",
        "*   Peor caso: La secuencia será un arreglo ordenado de $n-1$ hasta $0$.\n",
        "*   Caso aleatorio: La secuencia será un arreglo aleatorio de números entre 1 y 99, con $n$ cantidad de elementos.\n",
        "\n",
        "Como ejemplo del mejor y peor caso, se pueden observar las demostraciones anteriores, donde $n$ es reemplazado por 5."
      ],
      "metadata": {
        "id": "Jsm2BNkWZj5H"
      }
    },
    {
      "cell_type": "code",
      "source": [],
      "metadata": {
        "id": "K4kERRFqZpVq"
      },
      "execution_count": null,
      "outputs": []
    },
    {
      "cell_type": "markdown",
      "source": [
        "### Análisis de resultados"
      ],
      "metadata": {
        "id": "_sHzCsnnZqeo"
      }
    },
    {
      "cell_type": "markdown",
      "source": [
        "#5.2. Tiempo de ejecucion (experimental)"
      ],
      "metadata": {
        "id": "q-q6Bt39Zt7k"
      }
    },
    {
      "cell_type": "code",
      "source": [],
      "metadata": {
        "id": "ddP-P9LyZv0L"
      },
      "execution_count": null,
      "outputs": []
    },
    {
      "cell_type": "markdown",
      "source": [
        "**Analisis de resultados**"
      ],
      "metadata": {
        "id": "Qx5tgYh-Zw9c"
      }
    }
  ]
}