{
  "nbformat": 4,
  "nbformat_minor": 0,
  "metadata": {
    "colab": {
      "name": "MergeSort",
      "provenance": [],
      "collapsed_sections": [],
      "authorship_tag": "ABX9TyOyATgQtBDQzV86+uXLizNQ",
      "include_colab_link": true
    },
    "kernelspec": {
      "name": "python3",
      "display_name": "Python 3"
    },
    "language_info": {
      "name": "python"
    }
  },
  "cells": [
    {
      "cell_type": "markdown",
      "metadata": {
        "id": "view-in-github",
        "colab_type": "text"
      },
      "source": [
        "<a href=\"https://colab.research.google.com/github/Jorgee18/ADA-Informes/blob/main/MergeSort.ipynb\" target=\"_parent\"><img src=\"https://colab.research.google.com/assets/colab-badge.svg\" alt=\"Open In Colab\"/></a>"
      ]
    },
    {
      "cell_type": "markdown",
      "source": [
        "# **1. Problema de ordenamiento**\n",
        "**Entrada**: Un conjunto de n numeros $[a_1,a_2,...,a_n]$.\n",
        "\n",
        "**Salida**: Secuencia ordenada de la entrada $[a_1',a_2',...,a_n']$ de forma que quede cada numero al momento de su salida sea menor al anterior $a_1'\\leq a_2' \\leq... \\leq a_n'$.  \n",
        "\n",
        "El algoritmo MergeSort es un metodo de ordenamiento de tipo divide y venceras, debido a que por medio de la division logra simplificar y resolver los problemas de ordenamiento.\n",
        "\n",
        "Este algoritmo recibe un conjunto de numeros no necesariamente ordenad (arreglo) y como salida devuelve un arreglo ordenado numericamente de menor a mayor.\n"
      ],
      "metadata": {
        "id": "1HhTonxTX3Lr"
      }
    },
    {
      "cell_type": "markdown",
      "source": [
        "# 2.Algoritmo MergeSort\n",
        "\n",
        "A continuacion se moestrara codigo de su funcionamiento tanto de **Merge** como de **MergeSort**."
      ],
      "metadata": {
        "id": "UKVp7W4RYN9z"
      }
    },
    {
      "cell_type": "code",
      "source": [
        "import random\n",
        "from termcolor import colored"
      ],
      "metadata": {
        "id": "YnWc1zwHSocf"
      },
      "execution_count": 109,
      "outputs": []
    },
    {
      "cell_type": "code",
      "source": [
        "#Funcion Merge\n",
        "\n",
        "def Merge(der, izq, verbose = False):\n",
        "  comparaciones = 0\n",
        "  b = []\n",
        "\n",
        "  while  len(der) > 0 and len(izq) > 0:\n",
        "    if der[0] < izq[0]:\n",
        "      comparaciones = comparaciones + 1\n",
        "      b.append(der[0])\n",
        "      print(b)\n",
        "      der.pop(0)\n",
        "    else:\n",
        "      comparaciones = comparaciones + 1\n",
        "      b.append(izq[0])\n",
        "      print(b)\n",
        "      izq.pop(0) \n",
        "\n",
        "  if len(izq) > 0 :\n",
        "    while len(izq) > 0:\n",
        "      comparaciones = comparaciones + 1\n",
        "      b.append(izq[0])\n",
        "      print(b)\n",
        "      izq.pop(0)\n",
        "  else:\n",
        "    while len(der) > 0:\n",
        "      comparaciones = comparaciones + 1\n",
        "      b.append(der[0])\n",
        "      print(b)\n",
        "      der.pop(0)\n",
        "\n",
        "  return b\n"
      ],
      "metadata": {
        "id": "CJU5X-NQYco4"
      },
      "execution_count": 161,
      "outputs": []
    },
    {
      "cell_type": "code",
      "source": [
        "#Funcion MergeSort\n",
        "\n",
        "def MergeSort(A, verbose = False):\n",
        "  largo = len(A)\n",
        "  if verbose == True: print(\"input array:\", A)\n",
        "  if verbose == True:\n",
        "    print(\"\\nPasada\")\n",
        "\n",
        "  if(largo == 1): return A\n",
        "  mitad = largo//2\n",
        "\n",
        "  izquierda = A[0:mitad]\n",
        "  derecha = A[mitad:]\n",
        "\n",
        "  izquierdaOrdenada = MergeSort(izquierda)\n",
        "  derechaOrdenada = MergeSort(derecha)\n",
        "\n",
        "  return Merge(derechaOrdenada, izquierdaOrdenada, verbose)\n"
      ],
      "metadata": {
        "id": "xGtMpt-1YcyM"
      },
      "execution_count": 159,
      "outputs": []
    },
    {
      "cell_type": "code",
      "source": [
        "arreglo = [3,1,5,6,2]\n",
        "arreglo = MergeSort(arreglo, True)\n",
        "\n",
        "print(arreglo)"
      ],
      "metadata": {
        "colab": {
          "base_uri": "https://localhost:8080/"
        },
        "id": "wgZAvjPNsvrY",
        "outputId": "f1c736c2-2440-416d-85df-d0b23894599f"
      },
      "execution_count": 162,
      "outputs": [
        {
          "output_type": "stream",
          "name": "stdout",
          "text": [
            "input array: [3, 1, 5, 6, 2]\n",
            "\n",
            "Pasada\n",
            "[1]\n",
            "1 , \u001b[33m1\u001b[0m , \n",
            "[1, 3]\n",
            "[2]\n",
            "2 , \u001b[33m2\u001b[0m , \n",
            "[2, 6]\n",
            "[2]\n",
            "2 , \u001b[33m2\u001b[0m , \n",
            "[2, 5]\n",
            "[2, 5, 6]\n",
            "[1]\n",
            "[1, 2]\n",
            "1 , \u001b[33m1\u001b[0m , 2\n",
            "[1, 2, 3]\n",
            "[1, 2, 3, 5]\n",
            "[1, 2, 3, 5, 6]\n",
            "[1, 2, 3, 5, 6]\n"
          ]
        }
      ]
    },
    {
      "cell_type": "markdown",
      "source": [
        "# 2.2. Descripcion del algoritmo\n",
        "El algoritmo o codigo recibe inicialmente un arreglo de n elementos numericos que deben de ser ordenados mediante los siguientes pasos.\n",
        "\n",
        "MergeSort funcionara de la siguiente manera:\n",
        "\n",
        "1. Primeramente se dividen los arreglos por la mitad (n/2) dejando dos sub arreglos, hasta que quede cada numero por separado es decir un arreglo de tamaño 1.\n",
        "\n",
        "2. Con el uso del MergeSort se ordenan estos sub arreglos de menor a mayor.\n",
        "\n",
        "3. Finalmente con la funcion merge uno combina los diferentes sub arreglos ordenados de modo que quede unicamente uno."
      ],
      "metadata": {
        "id": "Sb2POGltYeqq"
      }
    },
    {
      "cell_type": "markdown",
      "source": [
        "# 2.3. Ejemplo\n",
        "Ejemplo de un arreglo y las comparaciones que hace."
      ],
      "metadata": {
        "id": "oNwIvOLzYvk3"
      }
    },
    {
      "cell_type": "code",
      "source": [
        "arreglo = [3,1,5,6,2]\n",
        "arreglo = MergeSort(arreglo)\n",
        "\n",
        "print(arreglo)"
      ],
      "metadata": {
        "colab": {
          "base_uri": "https://localhost:8080/"
        },
        "id": "ZgWThePQTWoK",
        "outputId": "0963dbfa-d233-4ed4-aa56-f981b3bd69fe"
      },
      "execution_count": 112,
      "outputs": [
        {
          "output_type": "stream",
          "name": "stdout",
          "text": [
            "1 , \u001b[33m1\u001b[0m , \n",
            "3 , \u001b[33m3\u001b[0m , \n",
            "2 , \u001b[33m2\u001b[0m , \n",
            "6 , \u001b[33m6\u001b[0m , \n",
            "2 , \u001b[33m2\u001b[0m , 6\n",
            "5 , \u001b[33m5\u001b[0m , \n",
            "2 , \u001b[33m2\u001b[0m , 5, 6\n",
            "3 , \u001b[33m3\u001b[0m , \n",
            "[1, 2, 3, 5, 6]\n"
          ]
        }
      ]
    },
    {
      "cell_type": "markdown",
      "source": [
        "# 2.4. Ejecucion del algoritmo paso a paso (verbose=True)\n",
        "Debido a esta opcion podemos ver el funcionamiento paso a paso en cada iteracion."
      ],
      "metadata": {
        "id": "LWbC-nViY5AP"
      }
    },
    {
      "cell_type": "code",
      "source": [
        ""
      ],
      "metadata": {
        "id": "5NYyBYbCY8ev"
      },
      "execution_count": null,
      "outputs": []
    },
    {
      "cell_type": "markdown",
      "source": [
        "En cada iteracion se recorre:\n",
        "\n",
        "*   Elemento de la lista\n",
        "*   Elemento de la lista\n",
        "\n",
        "Color amarillo: Numero actual que se esta comparando.\n",
        "\n",
        "Color verde: Numeros que se estan realizando un cambio."
      ],
      "metadata": {
        "id": "xcF4pSQKY-1M"
      }
    },
    {
      "cell_type": "markdown",
      "source": [
        "# 3. Tiempo de ejecucion\n",
        "## **Teorema (Tiempo de ejecucion).**\n",
        "\n",
        "Peor caso.\n",
        "\n",
        "## Prueba del teorema"
      ],
      "metadata": {
        "id": "WGv-nKgcZBTh"
      }
    },
    {
      "cell_type": "code",
      "source": [
        ""
      ],
      "metadata": {
        "id": "mW1AQ6JfZSvo"
      },
      "execution_count": null,
      "outputs": []
    },
    {
      "cell_type": "markdown",
      "source": [
        "# 4. Correctitud\n",
        "\n",
        "### **Teorema (Correctitud).**\n",
        "\n",
        "## Prueba del Teorema\n",
        "\n",
        "**Inicializacion**\n",
        "\n",
        "**Mantencion**"
      ],
      "metadata": {
        "id": "X-BQfq99ZS-N"
      }
    },
    {
      "cell_type": "markdown",
      "source": [
        "# 5. Experimentos\n",
        "\n",
        "## 5.1. Número de comparaciones\n",
        "\n",
        "A continuación se muestra gráficamente una comparación entre:\n",
        "\n",
        "* cantidad de comparaciones del peor caso calculadas matemáticamente,\n",
        "* cantidad de comparaciones del mejor caso calculadas matemáticamente (n-1 comparaciones si el arreglo está ordenado)\n",
        "* cantidad de comparaciones realizadas experimentalmente para entradas aleatorias\n",
        "\n",
        "para tamaños de problemas con $n \\in [5,100]$.\n",
        "\n",
        "Los arreglos de entrada son:\n",
        "\n",
        "*   Mejor caso: La secuencia será un arreglo ordenado de $0$ hasta $n-1$.\n",
        "*   Peor caso: La secuencia será un arreglo ordenado de $n-1$ hasta $0$.\n",
        "*   Caso aleatorio: La secuencia será un arreglo aleatorio de números entre 1 y 99, con $n$ cantidad de elementos.\n",
        "\n",
        "Como ejemplo del mejor y peor caso, se pueden observar las demostraciones anteriores, donde $n$ es reemplazado por 5."
      ],
      "metadata": {
        "id": "Jsm2BNkWZj5H"
      }
    },
    {
      "cell_type": "code",
      "source": [
        ""
      ],
      "metadata": {
        "id": "K4kERRFqZpVq"
      },
      "execution_count": null,
      "outputs": []
    },
    {
      "cell_type": "markdown",
      "source": [
        "### Análisis de resultados"
      ],
      "metadata": {
        "id": "_sHzCsnnZqeo"
      }
    },
    {
      "cell_type": "markdown",
      "source": [
        "#5.2. Tiempo de ejecucion (experimental)"
      ],
      "metadata": {
        "id": "q-q6Bt39Zt7k"
      }
    },
    {
      "cell_type": "code",
      "source": [
        ""
      ],
      "metadata": {
        "id": "ddP-P9LyZv0L"
      },
      "execution_count": null,
      "outputs": []
    },
    {
      "cell_type": "markdown",
      "source": [
        "**Analisis de resultados**"
      ],
      "metadata": {
        "id": "Qx5tgYh-Zw9c"
      }
    }
  ]
}