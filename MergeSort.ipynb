{
  "nbformat": 4,
  "nbformat_minor": 0,
  "metadata": {
    "colab": {
      "name": "MergeSort",
      "provenance": [],
      "collapsed_sections": [],
      "authorship_tag": "ABX9TyOt/oZNRCc99unEEMJCX3Hf",
      "include_colab_link": true
    },
    "kernelspec": {
      "name": "python3",
      "display_name": "Python 3"
    },
    "language_info": {
      "name": "python"
    }
  },
  "cells": [
    {
      "cell_type": "markdown",
      "metadata": {
        "id": "view-in-github",
        "colab_type": "text"
      },
      "source": [
        "<a href=\"https://colab.research.google.com/github/Jorgee18/ADA-Informes/blob/main/MergeSort.ipynb\" target=\"_parent\"><img src=\"https://colab.research.google.com/assets/colab-badge.svg\" alt=\"Open In Colab\"/></a>"
      ]
    },
    {
      "cell_type": "markdown",
      "source": [
        "# **1. Problema de ordenamiento**\n",
        "**Entrada**: Un conjunto de n numeros $[a_1,a_2,...,a_n]$.\n",
        "\n",
        "**Salida**: Secuencia ordenada de la entrada $[a_1',a_2',...,a_n']$ de forma que quede cada numero al momento de su salida sea menor al anterior $a_1'\\leq a_2' \\leq... \\leq a_n'$.  \n",
        "\n",
        "El algoritmo MergeSort es un metodo de ordenamiento de tipo divide y venceras, debido a que por medio de la division logra simplificar y resolver los problemas de ordenamiento.\n",
        "\n",
        "Este algoritmo recibe un conjunto de numeros no necesariamente ordenad (arreglo) y como salida devuelve un arreglo ordenado numericamente de menor a mayor.\n"
      ],
      "metadata": {
        "id": "1HhTonxTX3Lr"
      }
    },
    {
      "cell_type": "markdown",
      "source": [
        "# 2.Algoritmo MergeSort\n",
        "\n",
        "A continuacion se moestrara codigo de su funcionamiento tanto de **Merge** como de **MergeSort**."
      ],
      "metadata": {
        "id": "UKVp7W4RYN9z"
      }
    },
    {
      "cell_type": "code",
      "source": [
        "import random\n",
        "from termcolor import colored"
      ],
      "metadata": {
        "id": "YnWc1zwHSocf"
      },
      "execution_count": 1,
      "outputs": []
    },
    {
      "cell_type": "code",
      "source": [
        "#Funcion Merge\n",
        "\n",
        "def Merge(der, izq, verbose, comparaciones):\n",
        "  b = []\n",
        "  while  len(der) > 0 and len(izq) > 0: #Mientras alguno de los arreglos su largo sea mayor que 0 se mantendra el ciclo while.\n",
        "    if der[0] < izq[0]: #Si la el numero de la derecha es mayor que el de la izquierda se ingresa en el nuevo arreglo que estara ordenado y automaticamente se borra del arreglo de la derecha.\n",
        "      comparaciones = comparaciones + 1\n",
        "      b.append(der[0])\n",
        "      der.pop(0)\n",
        "    else:\n",
        "      comparaciones = comparaciones + 1\n",
        "      b.append(izq[0]) #Si la el numero de la izquierda es mayor que el de la derecha se ingresa en el nuevo arreglo que estara ordenado y automaticamente se borra del arreglo de la izquierda.\n",
        "      izq.pop(0) \n",
        "\n",
        "  if len(izq) > 0 :#Debido a que el ciclo while anterior se detiene hasta completar la totalidad de uno de sus arreglos, se deben de ingresar los numeros restantes del otro dentro de nuestro nuevo arreglo.\n",
        "    while len(izq) > 0:\n",
        "      comparaciones = comparaciones + 1\n",
        "      b.append(izq[0])\n",
        "      izq.pop(0)\n",
        "  else:\n",
        "    while len(der) > 0:\n",
        "      comparaciones = comparaciones + 1\n",
        "      b.append(der[0])\n",
        "      der.pop(0)\n",
        "\n",
        "  if(verbose):\n",
        "    print(\"Combinando\")\n",
        "    print(b, \"\\n\")\n",
        "  return b, comparaciones\n"
      ],
      "metadata": {
        "id": "CJU5X-NQYco4"
      },
      "execution_count": 141,
      "outputs": []
    },
    {
      "cell_type": "code",
      "source": [
        "#Funcion MergeSort\n",
        "\n",
        "def MergeSort(A, verbose, c):\n",
        "  largo = len(A)\n",
        "\n",
        "  if(largo == 1): return A, c #Si el largo del arreglo es 1 se retorna inmediatamente junto a la cantidad de comparaciones.\n",
        "  mitad = largo//2\n",
        "\n",
        "  izquierda = A[0:mitad] #Se guarda la mitad izquierda.\n",
        "  derecha = A[mitad:] #Se guarda la mitad derecha.\n",
        "  if (verbose):\n",
        "    print(\"Arreglo\")\n",
        "    print(colored(f\"{str(A[:])}\",\"blue\"))\n",
        "    print(\"Separando\")\n",
        "    print(colored(f\"{str(A[0:mitad])}\",\"yellow\"),\",\",colored(f\"{str(A[mitad:])}\",\"green\"))\n",
        "\n",
        "  izquierda, c = MergeSort(izquierda, verbose, c) #Se llama de forma recursiva al MergeSort de modo que separe cada numero del arreglo.\n",
        "  derecha, c = MergeSort(derecha, verbose, c)\n",
        "\n",
        "  return Merge(derecha, izquierda, verbose, c) #Dado cada numero separado se envian al Merge para su comparacion y union.\n"
      ],
      "metadata": {
        "id": "xGtMpt-1YcyM"
      },
      "execution_count": 147,
      "outputs": []
    },
    {
      "cell_type": "markdown",
      "source": [
        "Entrada: $a=[5,7,6,9,3]$\n",
        "\n",
        "Salida: $a=[3,5,6,7,9]$"
      ],
      "metadata": {
        "id": "cbpobMnoYy8w"
      }
    },
    {
      "cell_type": "markdown",
      "source": [
        "# 2.2. Descripcion del algoritmo\n",
        "El algoritmo o codigo recibe inicialmente un arreglo de n elementos numericos que deben de ser ordenados mediante los siguientes pasos.\n",
        "\n",
        "MergeSort funcionara de la siguiente manera:\n",
        "\n",
        "1. Primeramente se dividen los arreglos por la mitad (n/2) dejando dos sub arreglos, hasta que quede cada numero por separado es decir un arreglo de tamaño 1.\n",
        "\n",
        "2. Con el uso del MergeSort se ordenan estos sub arreglos de menor a mayor.\n",
        "\n",
        "3. Finalmente con la funcion merge uno combina los diferentes sub arreglos ordenados de modo que quede unicamente uno."
      ],
      "metadata": {
        "id": "Sb2POGltYeqq"
      }
    },
    {
      "cell_type": "markdown",
      "source": [
        "# 2.3. Ejemplo\n",
        "$a=[5,8,7,1,3]$\n",
        "\n",
        "Como ejemplo podemos conserar el arreglo:\n",
        "\n",
        "1. En el primer paso se realiza la particion por la mitad de nuestro arreglo \"a\", en caso de ser par quedan dos sub arreglos del mismo tamaño a diferencia de que este sea impar donde quedara dos sub arreglos de distintos tamaños.\n",
        "\n",
        "  $[5,8], [7,1,3]$\n",
        "\n",
        "2. Posteriormente estos arreglos se subdividen hasta que cada numero quede con un arreglo de tamaño 1.\n",
        "\n",
        "  $[5], [8], [7], [1], [3]$\n",
        "\n",
        "3. Dado cada numero con su arreglo de tamaño 1 se procede a hacer uso de la funcion Merge que se encarga de comparar y unir todos los sub arreglos en solo uno, aunque esto lo hace comparando primeramente los sub arreglos que separo anteriormente para despues unirlo ordenado con el otro sub arreglo.\n",
        "\n",
        "  $[5,8], [1,3,7]$\n",
        "\n",
        "4. Por ultimo se unen ambos sub arreglos ordenados para dar como resultado un unico arreglo ordenado.\n",
        "\n",
        "  $[1,3,5,7,8]$"
      ],
      "metadata": {
        "id": "oNwIvOLzYvk3"
      }
    },
    {
      "cell_type": "markdown",
      "source": [
        "# 2.4. Ejecucion del algoritmo paso a paso (verbose=True)\n",
        "Debido a esta opcion podemos ver el funcionamiento paso a paso en cada iteracion."
      ],
      "metadata": {
        "id": "LWbC-nViY5AP"
      }
    },
    {
      "cell_type": "code",
      "source": [
        "arreglo = [3,1,5,6]\n",
        "c = 0\n",
        "arreglo, c = MergeSort(arreglo, True, c)\n",
        "print(\"Arreglo ordenado:\", arreglo)\n",
        "print(\"Total de Comparaciones:\", c)\n"
      ],
      "metadata": {
        "colab": {
          "base_uri": "https://localhost:8080/"
        },
        "id": "wgZAvjPNsvrY",
        "outputId": "07d1672d-f326-44ae-fad0-42fcf6bdbc35"
      },
      "execution_count": 148,
      "outputs": [
        {
          "output_type": "stream",
          "name": "stdout",
          "text": [
            "Arreglo\n",
            "\u001b[34m[3, 1, 5, 6]\u001b[0m\n",
            "Separando\n",
            "\u001b[33m[3, 1]\u001b[0m , \u001b[32m[5, 6]\u001b[0m\n",
            "Arreglo\n",
            "\u001b[34m[3, 1]\u001b[0m\n",
            "Separando\n",
            "\u001b[33m[3]\u001b[0m , \u001b[32m[1]\u001b[0m\n",
            "Combinando\n",
            "[1, 3] \n",
            "\n",
            "Arreglo\n",
            "\u001b[34m[5, 6]\u001b[0m\n",
            "Separando\n",
            "\u001b[33m[5]\u001b[0m , \u001b[32m[6]\u001b[0m\n",
            "Combinando\n",
            "[5, 6] \n",
            "\n",
            "Combinando\n",
            "[1, 3, 5, 6] \n",
            "\n",
            "Arreglo ordenado: [1, 3, 5, 6]\n",
            "Total de Comparaciones: 8\n"
          ]
        }
      ]
    },
    {
      "cell_type": "markdown",
      "source": [
        "En cada iteracion se recorre:\n",
        "\n",
        "*   Elemento de la lista\n",
        "*   Elemento de la sublista\n",
        "\n",
        "1. Color azul: Arreglo normal/ SubArreglo.\n",
        "\n",
        "2. Color amarillo: Arreglo izquierda separandose.\n",
        "\n",
        "3. Color verde: Arreglo derecha separandose.\n",
        "\n",
        "4. Color blanco: Arreglo ordenado."
      ],
      "metadata": {
        "id": "xcF4pSQKY-1M"
      }
    },
    {
      "cell_type": "markdown",
      "source": [
        "# 3. Tiempo de ejecucion\n",
        "## **Teorema (Tiempo de ejecucion).**\n",
        "\n",
        "Peor caso.\n",
        "\n",
        "## Prueba del teorema"
      ],
      "metadata": {
        "id": "WGv-nKgcZBTh"
      }
    },
    {
      "cell_type": "code",
      "source": [
        ""
      ],
      "metadata": {
        "id": "mW1AQ6JfZSvo"
      },
      "execution_count": null,
      "outputs": []
    },
    {
      "cell_type": "markdown",
      "source": [
        "# 4. Correctitud\n",
        "\n",
        "### **Teorema (Correctitud).**\n",
        "\n",
        "## Prueba del Teorema\n",
        "\n",
        "**Inicializacion**\n",
        "\n",
        "**Mantencion**"
      ],
      "metadata": {
        "id": "X-BQfq99ZS-N"
      }
    },
    {
      "cell_type": "markdown",
      "source": [
        "# 5. Experimentos\n",
        "\n",
        "## 5.1. Número de comparaciones\n",
        "\n",
        "A continuación se muestra gráficamente una comparación entre:\n",
        "\n",
        "* cantidad de comparaciones del peor caso calculadas matemáticamente,\n",
        "* cantidad de comparaciones del mejor caso calculadas matemáticamente (n-1 comparaciones si el arreglo está ordenado)\n",
        "* cantidad de comparaciones realizadas experimentalmente para entradas aleatorias\n",
        "\n",
        "para tamaños de problemas con $n \\in [5,100]$.\n",
        "\n",
        "Los arreglos de entrada son:\n",
        "\n",
        "*   Mejor caso: La secuencia será un arreglo ordenado de $0$ hasta $n-1$.\n",
        "*   Peor caso: La secuencia será un arreglo ordenado de $n-1$ hasta $0$.\n",
        "*   Caso aleatorio: La secuencia será un arreglo aleatorio de números entre 1 y 99, con $n$ cantidad de elementos.\n",
        "\n",
        "Como ejemplo del mejor y peor caso, se pueden observar las demostraciones anteriores, donde $n$ es reemplazado por 5."
      ],
      "metadata": {
        "id": "Jsm2BNkWZj5H"
      }
    },
    {
      "cell_type": "code",
      "source": [
        ""
      ],
      "metadata": {
        "id": "K4kERRFqZpVq"
      },
      "execution_count": null,
      "outputs": []
    },
    {
      "cell_type": "markdown",
      "source": [
        "### Análisis de resultados"
      ],
      "metadata": {
        "id": "_sHzCsnnZqeo"
      }
    },
    {
      "cell_type": "markdown",
      "source": [
        "#5.2. Tiempo de ejecucion (experimental)"
      ],
      "metadata": {
        "id": "q-q6Bt39Zt7k"
      }
    },
    {
      "cell_type": "code",
      "source": [
        ""
      ],
      "metadata": {
        "id": "ddP-P9LyZv0L"
      },
      "execution_count": null,
      "outputs": []
    },
    {
      "cell_type": "markdown",
      "source": [
        "**Analisis de resultados**"
      ],
      "metadata": {
        "id": "Qx5tgYh-Zw9c"
      }
    }
  ]
}