{
  "nbformat": 4,
  "nbformat_minor": 0,
  "metadata": {
    "colab": {
      "name": "sub-arreglo maximo",
      "provenance": [],
      "authorship_tag": "ABX9TyPHKg3RzvyMBB+UuFXxQp7u",
      "include_colab_link": true
    },
    "kernelspec": {
      "name": "python3",
      "display_name": "Python 3"
    },
    "language_info": {
      "name": "python"
    }
  },
  "cells": [
    {
      "cell_type": "markdown",
      "metadata": {
        "id": "view-in-github",
        "colab_type": "text"
      },
      "source": [
        "<a href=\"https://colab.research.google.com/github/Jorgee18/ADA-Informes/blob/main/sub_arreglo_maximo.ipynb\" target=\"_parent\"><img src=\"https://colab.research.google.com/assets/colab-badge.svg\" alt=\"Open In Colab\"/></a>"
      ]
    },
    {
      "cell_type": "markdown",
      "source": [
        "# **1. Problema de ordenamiento**\n",
        "**Entrada**: Un conjunto de n numeros $[a_1, a_n]$.\n",
        "\n",
        "**Salida**: Sub- arreglo $[a_i',a_j']$ tal que la suma de los elementos es mayor o igual a cualquier otro sub-arreglo, es decir, $\\sum\\limits_{k=i}^j a_k \\geq \\sum\\limits_{k=i'}^{j'} a_k$ , para cualquier par $(i',j')$, con $i' \\leq j'\\leq n$.  \n",
        "\n",
        "El algoritmo del sub-arreglo maximo es un metodo de ordenamiento que por medio de la division de un arreglo en dos partes (desde la mitad) logra generar un sub arreglo antes de la mitad y despues de la mitad logrando asi un sub arreglo maximo entre los dos. \n",
        "\n",
        "\n",
        "![image.png](data:image/png;base64,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)\n"
      ],
      "metadata": {
        "id": "1HhTonxTX3Lr"
      }
    },
    {
      "cell_type": "markdown",
      "source": [
        "# 2.Algoritmo MaxSubArray\n",
        "\n",
        "A continuacion se mostrara el funcionamiento tanto del **MaxSubArrayMid** como de **MaxSubArray**.\n",
        "\n",
        "\n",
        "\n"
      ],
      "metadata": {
        "id": "UKVp7W4RYN9z"
      }
    },
    {
      "cell_type": "code",
      "source": [
        "import random as rd\n",
        "import matplotlib.pyplot as plt\n",
        "import datetime\n",
        "import math as mt\n",
        "from timeit import repeat\n",
        "from termcolor import colored"
      ],
      "metadata": {
        "id": "CJU5X-NQYco4"
      },
      "execution_count": 2,
      "outputs": []
    },
    {
      "cell_type": "code",
      "source": [
        "def MaxSubArrayMid(A, izquierda, mitad, derecha):\n",
        "  sumaIzq = -100000000000\n",
        "  suma = 0\n",
        "\n",
        "  for i in range(mitad, izquierda - 1, -1):\n",
        "    suma = suma + A[i]\n",
        "    if suma > sumaIzq:\n",
        "      sumaIzq = suma\n",
        "      maxIzq = i\n",
        "\n",
        "  sumaDer = -100000000000\n",
        "  suma = 0\n",
        "\n",
        "  for j in range(mitad + 1, derecha + 1):\n",
        "    suma = suma + A[j]\n",
        "    if suma > sumaDer:\n",
        "      sumaDer = suma\n",
        "      maxDer = j\n",
        "\n",
        "  #print(maxIzq)\n",
        "  #print(maxDer)\n",
        "  #print(A[maxIzq:maxDer])\n",
        "  print(\"Suma desde los laterales en busca de encontrar la suma maxima: \",colored(f\"{str(A[maxIzq])}\",\"yellow\"),\",\",colored(f\"{str(A[maxDer])}\",\"green\"), \"Suma =\",sumaIzq+sumaDer)\n",
        "  #print(colored(f\"{str(A[:])}\",\"red\"))\n",
        "  return maxIzq, maxDer, sumaIzq + sumaDer"
      ],
      "metadata": {
        "id": "kfeAw6VhIwn9"
      },
      "execution_count": 40,
      "outputs": []
    },
    {
      "cell_type": "code",
      "source": [
        "def MaxSubArray(A, izquierda, derecha, verbose):\n",
        "  #if verbose:\n",
        "    #print(colored(f\"{str(A[:])}\",\"yellow\"),\",\",colored(f\"{str(A[:])}\",\"green\"))\n",
        "    #print(\"hola\")\n",
        "\n",
        "  if derecha == izquierda:\n",
        "    return izquierda, derecha, A[izquierda]\n",
        "  else:\n",
        "    mitad = (izquierda + derecha)//2\n",
        "    izqIzquierda, izqDerecha, izqSuma = MaxSubArray(A, izquierda, mitad, verbose)\n",
        "    derIzquierda, derDerecha, derSuma = MaxSubArray(A, mitad + 1, derecha, verbose)\n",
        "    medIzquierda, medDerecha, medSuma = MaxSubArrayMid(A, izquierda, mitad, derecha)\n",
        "    print(colored(f\"{str(A[medIzquierda:medDerecha + 1])}\",\"red\"))\n",
        "\n",
        "    if izqSuma >= derSuma and izqSuma >= medSuma:\n",
        "      return izqIzquierda, izqDerecha, izqSuma\n",
        "    else:\n",
        "      if derSuma >= izqSuma and derSuma >= medSuma:\n",
        "        return derIzquierda, derDerecha, derSuma\n",
        "      else:\n",
        "        return medIzquierda, medDerecha, medSuma\n",
        "  \n",
        "\n",
        "\n",
        "\n"
      ],
      "metadata": {
        "id": "xGtMpt-1YcyM"
      },
      "execution_count": 43,
      "outputs": []
    },
    {
      "cell_type": "code",
      "source": [
        "A = [-4,-5,6,7,8,-2,-12,11,]\n",
        "print(A)\n",
        "print(\"Separacion en dos partes del arreglo\")\n",
        "print(colored(f\"{str(A[0:len(A)//2])}\",\"yellow\"),\",\",colored(f\"{str(A[len(A)//2:])}\",\"green\"))\n",
        "low, high , c= MaxSubArray(A, 0, len(A) - 1, True)\n",
        "\n",
        "print(\"Arreglo con la suma maxima\",A[low:high+1])"
      ],
      "metadata": {
        "colab": {
          "base_uri": "https://localhost:8080/"
        },
        "id": "aCj6UxMYkjbc",
        "outputId": "33898535-a6b9-41c8-b37c-5d66347ca130"
      },
      "execution_count": 44,
      "outputs": [
        {
          "output_type": "stream",
          "name": "stdout",
          "text": [
            "[-4, -5, 6, 7, 8, -2, -12, 11]\n",
            "Separacion en dos partes del arreglo\n",
            "\u001b[33m[-4, -5, 6, 7]\u001b[0m , \u001b[32m[8, -2, -12, 11]\u001b[0m\n",
            "Suma desde los laterales en busca de encontrar la suma maxima:  \u001b[33m-4\u001b[0m , \u001b[32m-5\u001b[0m Suma = -9\n",
            "\u001b[31m[-4, -5]\u001b[0m\n",
            "Suma desde los laterales en busca de encontrar la suma maxima:  \u001b[33m6\u001b[0m , \u001b[32m7\u001b[0m Suma = 13\n",
            "\u001b[31m[6, 7]\u001b[0m\n",
            "Suma desde los laterales en busca de encontrar la suma maxima:  \u001b[33m-5\u001b[0m , \u001b[32m7\u001b[0m Suma = 8\n",
            "\u001b[31m[-5, 6, 7]\u001b[0m\n",
            "Suma desde los laterales en busca de encontrar la suma maxima:  \u001b[33m8\u001b[0m , \u001b[32m-2\u001b[0m Suma = 6\n",
            "\u001b[31m[8, -2]\u001b[0m\n",
            "Suma desde los laterales en busca de encontrar la suma maxima:  \u001b[33m-12\u001b[0m , \u001b[32m11\u001b[0m Suma = -1\n",
            "\u001b[31m[-12, 11]\u001b[0m\n",
            "Suma desde los laterales en busca de encontrar la suma maxima:  \u001b[33m8\u001b[0m , \u001b[32m11\u001b[0m Suma = 5\n",
            "\u001b[31m[8, -2, -12, 11]\u001b[0m\n",
            "Suma desde los laterales en busca de encontrar la suma maxima:  \u001b[33m6\u001b[0m , \u001b[32m8\u001b[0m Suma = 21\n",
            "\u001b[31m[6, 7, 8]\u001b[0m\n",
            "Arreglo con la suma maxima [6, 7, 8]\n"
          ]
        }
      ]
    },
    {
      "cell_type": "markdown",
      "source": [
        "# 2.2. Descripcion del algoritmo\n",
        "El algoritmo o codigo recibe inicialmente un arreglo de n elementos numericos que deben de ser ordenados mediante los siguientes pasos.\n",
        "\n",
        "Los pasos"
      ],
      "metadata": {
        "id": "Sb2POGltYeqq"
      }
    },
    {
      "cell_type": "markdown",
      "source": [
        "# 2.3. Ejemplo\n",
        "Ejemplo de un arreglo y las comparaciones que hace."
      ],
      "metadata": {
        "id": "oNwIvOLzYvk3"
      }
    },
    {
      "cell_type": "markdown",
      "source": [
        "# 2.4. Ejecucion del algoritmo paso a paso (verbose=True)\n",
        "Debido a esta opcion podemos ver el funcionamiento paso a paso en cada iteracion."
      ],
      "metadata": {
        "id": "LWbC-nViY5AP"
      }
    },
    {
      "cell_type": "code",
      "source": [],
      "metadata": {
        "id": "5NYyBYbCY8ev"
      },
      "execution_count": null,
      "outputs": []
    },
    {
      "cell_type": "markdown",
      "source": [
        "En cada iteracion se recorre:\n",
        "\n",
        "*   Elemento de la lista\n",
        "*   Elemento de la lista\n",
        "\n",
        "Color amarillo: Numero actual que se esta comparando.\n",
        "\n",
        "Color verde: Numeros que se estan realizando un cambio."
      ],
      "metadata": {
        "id": "xcF4pSQKY-1M"
      }
    },
    {
      "cell_type": "markdown",
      "source": [
        "# 3. Tiempo de ejecucion\n",
        "## **Teorema (Tiempo de ejecucion).**\n",
        "\n",
        "Peor caso.\n",
        "\n",
        "## Prueba del teorema"
      ],
      "metadata": {
        "id": "WGv-nKgcZBTh"
      }
    },
    {
      "cell_type": "code",
      "source": [],
      "metadata": {
        "id": "mW1AQ6JfZSvo"
      },
      "execution_count": null,
      "outputs": []
    },
    {
      "cell_type": "markdown",
      "source": [
        "# 4. Correctitud\n",
        "\n",
        "### **Teorema (Correctitud).**\n",
        "\n",
        "## Prueba del Teorema\n",
        "\n",
        "**Inicializacion**\n",
        "\n",
        "**Mantencion**"
      ],
      "metadata": {
        "id": "X-BQfq99ZS-N"
      }
    },
    {
      "cell_type": "markdown",
      "source": [
        "# 5. Experimentos\n",
        "\n",
        "## 5.1. Número de comparaciones\n",
        "\n",
        "A continuación se muestra gráficamente una comparación entre:\n",
        "\n",
        "* cantidad de comparaciones del peor caso calculadas matemáticamente,\n",
        "* cantidad de comparaciones del mejor caso calculadas matemáticamente (n-1 comparaciones si el arreglo está ordenado)\n",
        "* cantidad de comparaciones realizadas experimentalmente para entradas aleatorias\n",
        "\n",
        "para tamaños de problemas con $n \\in [5,100]$.\n",
        "\n",
        "Los arreglos de entrada son:\n",
        "\n",
        "*   Mejor caso: La secuencia será un arreglo ordenado de $0$ hasta $n-1$.\n",
        "*   Peor caso: La secuencia será un arreglo ordenado de $n-1$ hasta $0$.\n",
        "*   Caso aleatorio: La secuencia será un arreglo aleatorio de números entre 1 y 99, con $n$ cantidad de elementos.\n",
        "\n",
        "Como ejemplo del mejor y peor caso, se pueden observar las demostraciones anteriores, donde $n$ es reemplazado por 5."
      ],
      "metadata": {
        "id": "Jsm2BNkWZj5H"
      }
    },
    {
      "cell_type": "code",
      "source": [],
      "metadata": {
        "id": "K4kERRFqZpVq"
      },
      "execution_count": null,
      "outputs": []
    },
    {
      "cell_type": "markdown",
      "source": [
        "### Análisis de resultados"
      ],
      "metadata": {
        "id": "_sHzCsnnZqeo"
      }
    },
    {
      "cell_type": "markdown",
      "source": [
        "#5.2. Tiempo de ejecucion (experimental)"
      ],
      "metadata": {
        "id": "q-q6Bt39Zt7k"
      }
    },
    {
      "cell_type": "code",
      "source": [],
      "metadata": {
        "id": "ddP-P9LyZv0L"
      },
      "execution_count": null,
      "outputs": []
    },
    {
      "cell_type": "markdown",
      "source": [
        "**Analisis de resultados**"
      ],
      "metadata": {
        "id": "Qx5tgYh-Zw9c"
      }
    }
  ]
}